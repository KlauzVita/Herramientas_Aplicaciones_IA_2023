{
 "cells": [
  {
   "cell_type": "markdown",
   "id": "2bbfa8f3",
   "metadata": {},
   "source": [
    "<img style=\"float: left;;\" src='Figures/alinco.png' /></a>\n",
    "\n",
    "# <center> <font color= #000047> Módulo 1: Aprendizaje supervizado: Máquinas de Vector Soporte"
   ]
  },
  {
   "cell_type": "markdown",
   "id": "6fcc4ba7",
   "metadata": {},
   "source": [
    "Generalmente, `Support Vector Machines` se considera un algoritmo de aprendizaje supervizado para clasificación, pero puede emplearse en ambos tipos de problemas de clasificación y regresión. \n",
    "\n",
    ">Puede manejar fácilmente múltiples variables continuas y categóricas.\n",
    "\n",
    ">SVM construye un hiperplano en un espacio multidimensional para separar diferentes clases.\n",
    "\n",
    ">SVM genera un hiperplano óptimo de manera iterativa, que se utiliza para minimizar un error. La idea central de SVM es encontrar un hiperplano marginal máximo (MMH) que divida mejor el conjunto de datos en clases."
   ]
  },
  {
   "cell_type": "markdown",
   "id": "2ba68033",
   "metadata": {},
   "source": [
    "> **Vectores Soportes:** Los vectores de soporte son los puntos de datos más cercanos al hiperplano. Estos puntos definirán mejor la línea de separación calculando los márgenes. Estos puntos son más relevantes para la construcción del clasificador.\n",
    "\n",
    "> **Hiperplano:** Un hiperplano es un plano de decisión que separa un conjunto de objetos que tienen diferentes membresías de clase.\n",
    "\n",
    ">**Margen:** Un margen es un espacio que existe entre dos líneas obtenidas en función de los puntos de cada clase. Esto se calcula como la distancia perpendicular desde la línea hasta los vectores soporte o los puntos más cercanos. Si el margen es mayor entre las clases, entonces se considera un buen margen, un margen más pequeño es un mal margen.\n"
   ]
  },
  {
   "cell_type": "markdown",
   "id": "6e9b1760",
   "metadata": {},
   "source": [
    "### Algoritmo\n",
    "El objetivo principal es segregar el conjunto de datos dado de la mejor manera posible. La distancia entre los puntos más cercanos se conoce como margen. El objetivo es seleccionar un hiperplano con el máximo margen posible entre los vectores de soporte en el conjunto de datos dado. SVM busca el hiperplano marginal máximo.\n",
    "\n",
    "1. Basada en kernels que realiza clasificación lineal sobre vectores transformados a un espacio de dimensión superior, es decir, separa mediante un hiperplano en el espacio transformado.\n",
    "\n",
    "2. Encuentra el hiperplano que maximiza el “margen” entre dos clases"
   ]
  },
  {
   "cell_type": "markdown",
   "id": "807d8abf",
   "metadata": {},
   "source": [
    "\n",
    "<img alt=\"Datos categóricos con Python\" title=\"Datos categóricos con Python\" src=\"https://www.researchgate.net/profile/Reza-M-Sheykhmousa/publication/344437400/figure/fig2/AS:941686976966699@1601527079828/An-SVM-example-for-linearly-separable-data_W640.jpg\" high=200px width=300px>\n"
   ]
  },
  {
   "cell_type": "code",
   "execution_count": null,
   "id": "0640e316",
   "metadata": {},
   "outputs": [],
   "source": [
    "xfit = np.linspace(-1,3.5)\n",
    "plt.scatter(X[:,0],X[:,1],c=y,s=50,cmap='jet')\n",
    "\n",
    "plt.plot([0.6],[2.1], 'x',color='red',\n",
    "        markeredgewidth=2,markersize=10)\n",
    "\n",
    "for m, b in [(1,0.65),(0.5,1.6),(-0.2,2.9)]:\n",
    "    plt.plot(xfit,m*xfit + b, '-k')\n",
    "\n",
    "plt.xlim(-1,3.5)"
   ]
  },
  {
   "cell_type": "markdown",
   "id": "f8814bf7",
   "metadata": {},
   "source": [
    "¿Cuál sería la mejor recta?\n",
    "\n",
    "La intuicion de SVM es que podemos dibujar una recta para clasificar las clases y dibijuar un margén de cierta distancia entre las rectas:"
   ]
  },
  {
   "cell_type": "code",
   "execution_count": null,
   "id": "2985f64d",
   "metadata": {},
   "outputs": [],
   "source": [
    "xfit = np.linspace(-1,3.5)\n",
    "plt.scatter(X[:,0],X[:,1],c=y,s=50,cmap='jet')\n",
    "\n",
    "\n",
    "for m, b,d in [(1,0.65,0.33),(0.5,1.6,0.55),(-0.2,2.9,0.2)]:\n",
    "    yfit = m*xfit + b\n",
    "    plt.plot(xfit,yfit, '-k')\n",
    "    plt.fill_between(xfit,yfit - d, yfit +d, \n",
    "                     edgecolor='none',\n",
    "                    color = '#AAAAAA',alpha=0.4)\n",
    "plt.xlim(-1,3.5)"
   ]
  },
  {
   "cell_type": "code",
   "execution_count": null,
   "id": "82358c01",
   "metadata": {},
   "outputs": [],
   "source": []
  },
  {
   "cell_type": "markdown",
   "id": "f880fb52",
   "metadata": {},
   "source": [
    "La linea que maximiza ese margen es la que se escoge como el modelo óptimo. "
   ]
  },
  {
   "cell_type": "markdown",
   "id": "45cd3cdd",
   "metadata": {},
   "source": [
    "## Ejemplo 1: Datos Linealmente separables"
   ]
  },
  {
   "cell_type": "code",
   "execution_count": null,
   "id": "83652649",
   "metadata": {},
   "outputs": [],
   "source": [
    "#%% Librerías\n"
   ]
  },
  {
   "cell_type": "code",
   "execution_count": null,
   "id": "6230b4a3",
   "metadata": {},
   "outputs": [],
   "source": []
  },
  {
   "cell_type": "markdown",
   "id": "7bab0737",
   "metadata": {},
   "source": [
    "## Definición de la clase SVM"
   ]
  },
  {
   "cell_type": "code",
   "execution_count": null,
   "id": "a51f8de0",
   "metadata": {},
   "outputs": [],
   "source": []
  },
  {
   "cell_type": "markdown",
   "id": "ca66470d",
   "metadata": {},
   "source": [
    "### Modelo con librería sklearn"
   ]
  },
  {
   "cell_type": "code",
   "execution_count": null,
   "id": "440ec5d9",
   "metadata": {},
   "outputs": [],
   "source": [
    "from sklearn import svm\n",
    "from sklearn.metrics import(accuracy_score, \n",
    "                            precision_score,\n",
    "                            recall_score)\n"
   ]
  },
  {
   "cell_type": "code",
   "execution_count": null,
   "id": "9f9203d6",
   "metadata": {},
   "outputs": [],
   "source": [
    "#Crear el modelo con SVM\n",
    "\n",
    "#Entrenar al modelo\n",
    "\n",
    "# Predecir (evaluar al modelo)\n"
   ]
  },
  {
   "cell_type": "code",
   "execution_count": null,
   "id": "392869a0",
   "metadata": {},
   "outputs": [],
   "source": [
    "# Dibujar el hiperplano de separación\n",
    "beta = modelo.coef_[0]\n",
    "m = -beta[0]/beta[1]\n",
    "\n",
    "xx = np.linspace(-5,5)\n",
    "yy = m*xx - (modelo.intercept_[0]/beta[1])\n",
    "\n",
    "vs = modelo.support_vectors_\n",
    "\n",
    "#%% Margenes de separación\n",
    "b = vs[0]\n",
    "yy_down = m*xx + (b[1] - m*b[0])\n",
    "\n",
    "b = vs[-1]\n",
    "yy_up = m*xx + (b[1] - m*b[0])\n"
   ]
  },
  {
   "cell_type": "markdown",
   "id": "d9d79565",
   "metadata": {},
   "source": [
    "### Tratar con datos que no son linealmente separables"
   ]
  },
  {
   "cell_type": "code",
   "execution_count": null,
   "id": "947ae4ad",
   "metadata": {},
   "outputs": [],
   "source": [
    "# importar los datos \n"
   ]
  },
  {
   "cell_type": "markdown",
   "id": "604e9e5e",
   "metadata": {},
   "source": [
    "Algunos problemas no se pueden resolver utilizando un hiperplano lineal.\n",
    "\n",
    ">En tal situación, **SVM** usa un truco del kernel para transformar el espacio de entrada en un espacio dimensional más grande. \n",
    "\n",
    "**SVM Kernels**\n",
    "\n",
    "El algoritmo SVM se implementa en la práctica utilizando un kernel. \n",
    "\n",
    ">Un **kernel** transforma un espacio de datos de entrada en la forma requerida. Aquí, el kernel toma un espacio de entrada de menor dimensión y lo transforma en un espacio de mayor dimensión. En otras palabras, se puede decir que se convierte un problema no linealmente separable en problemas separables al agregarle una mayor dimensión. "
   ]
  },
  {
   "cell_type": "markdown",
   "id": "df74b5f3",
   "metadata": {},
   "source": [
    "\n",
    "<img alt=\"Datos categóricos con Python\" title=\"Datos categóricos con Python\" src=\"https://encrypted-tbn0.gstatic.com/images?q=tbn:ANd9GcTJKujfCumij1R0vDYuPFSbys3-Du7hrrIwTBHO4J06Ivi6MkFIJa7NQnE1rITiNoLaUro&usqp=CAU\" high=200px width=300px>\n"
   ]
  },
  {
   "cell_type": "markdown",
   "id": "fc8b3109",
   "metadata": {},
   "source": [
    "**Kernel lineal** Se puede utilizar un kernel lineal como producto escalar normal cualesquiera dos observaciones dadas. El producto entre dos vectores es la suma de la multiplicación de cada par de valores de entrada.\n",
    "\n",
    "$$K(x,x_i) = \\sum(x*x_i) $$\n",
    "\n",
    "\n",
    "**Kernel polinomial** Un kernel polinomial es una forma más generalizada del kernel lineal. El kernel polinomial puede distinguir el espacio de entrada curvo o no lineal.\n",
    "\n",
    "$$K(x,x_i) = 1 \\sum(x*x_i)^d $$\n",
    "\n",
    "Donde $d$ es el grado del polinomio. $d = 1$ es similar a la transformación lineal. \n",
    "\n",
    "**Kernel de función de base radial (RBF)** RBF puede mapear un espacio de entrada en un espacio dimensional infinito.\n",
    "\n",
    "$$K(x,x_i) = exp(-\\gamma * \\sum(x – x_i^2))$$"
   ]
  },
  {
   "cell_type": "code",
   "execution_count": null,
   "id": "2a69a7ea",
   "metadata": {},
   "outputs": [],
   "source": [
    "#%% Crear y entrenar el modelo SVM\n"
   ]
  },
  {
   "cell_type": "code",
   "execution_count": null,
   "id": "2a1887e8",
   "metadata": {},
   "outputs": [],
   "source": [
    "#Modelo polinomial\n"
   ]
  },
  {
   "cell_type": "code",
   "execution_count": null,
   "id": "ebe48429",
   "metadata": {},
   "outputs": [],
   "source": [
    "#Modelo kernel rbf\n"
   ]
  },
  {
   "cell_type": "markdown",
   "id": "12881d87",
   "metadata": {},
   "source": [
    "### Actividad:"
   ]
  },
  {
   "cell_type": "markdown",
   "id": "f854ac36",
   "metadata": {},
   "source": [
    "Considere el dataset \"apples_and_oranges.csv\" que se encuentra en la carpeta de Data, realize una clasificación por SVM utilizando los diferentes kernels: linear, poly, rbf. Grafique los datos con su clasificación y los vectores soportes."
   ]
  },
  {
   "cell_type": "code",
   "execution_count": null,
   "id": "b92e3aea",
   "metadata": {},
   "outputs": [],
   "source": []
  },
  {
   "cell_type": "code",
   "execution_count": null,
   "id": "2b3d2929",
   "metadata": {},
   "outputs": [],
   "source": []
  },
  {
   "cell_type": "code",
   "execution_count": null,
   "id": "f4a1e1c3",
   "metadata": {},
   "outputs": [],
   "source": []
  }
 ],
 "metadata": {
  "kernelspec": {
   "display_name": "Python 3 (ipykernel)",
   "language": "python",
   "name": "python3"
  },
  "language_info": {
   "codemirror_mode": {
    "name": "ipython",
    "version": 3
   },
   "file_extension": ".py",
   "mimetype": "text/x-python",
   "name": "python",
   "nbconvert_exporter": "python",
   "pygments_lexer": "ipython3",
   "version": "3.8.8"
  }
 },
 "nbformat": 4,
 "nbformat_minor": 5
}
