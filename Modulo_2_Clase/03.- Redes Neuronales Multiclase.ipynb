{
 "cells": [
  {
   "cell_type": "markdown",
   "metadata": {},
   "source": [
    "<img style=\"float: left;;\" src='Figures/alinco.png' /></a>\n",
    "\n",
    "# <center> <font color= #000047> Módulo 2: Redes Neuronales Multiclase\n"
   ]
  },
  {
   "cell_type": "markdown",
   "metadata": {},
   "source": [
    "   \n",
    "Los clasificadores no solo trabajan sobre dos clases, es muy común encontrarnos con problemas con más de dos. Para adaptar una red neuronal a un problema de $n$ clases basta con colocar en la capa de salida $n$ neuronas. \n",
    "\n",
    "<img src=\"Figures/multiclass.svg\" width=\"60%\">\n",
    "\n",
    "### Clasificación de Plantas Iris\n",
    "Vamos a estudiar esto haciendo uso de un *dataset* muy conocido utilizado para clasificar el género de plantas iris. La ﬂor de iris se presenta en tres especies distintas denominadas: \n",
    "\n",
    "- setosa\n",
    "- versicolor\n",
    "- virgínica\n",
    "\n",
    "Pueden identiﬁcarse atendiendo a los anchos y altos de sus pétalos y sépalos. Este conjunto de datos contiene 150 muestras de estas ﬂores, recogiendo 50 muestras de cada especie. \n",
    "\n",
    "\n",
    "**Las cuatro primeras columnas corresponden al alto y ancho del sépalo y al alto y ancho del pétalo. La quinta columna indica la especie a la que pertenece:** \n",
    "\n",
    "- 0 → setosa, \n",
    "- 1 → versicolor\n",
    "- 2 → virgínica. \n",
    "\n",
    "\n",
    "<img src=\"Figures/iris.png\" width=\"25%\">\n",
    "\n",
    "\n",
    "Vemos que la quinta columna contiene los valores 0,1 y 2. Son las etiquetas correspondientes a las tres clases. Decíamos que la forma de adaptar ahora una red para clasificar tres clases es poner en la capa de salida tres neuronas. Recordemos que la función de activación que estamos usando es la sigmoide, cuyo rango es $(0,1)$. ¿Cómo hacemos encajar esto para que podamos definir una función de error sobre la cual podamos descender por el gradiente hasta un mínimo?\n"
   ]
  },
  {
   "cell_type": "code",
   "execution_count": 14,
   "metadata": {},
   "outputs": [
    {
     "data": {
      "text/plain": [
       "array([0, 1, 2], dtype=int8)"
      ]
     },
     "execution_count": 14,
     "metadata": {},
     "output_type": "execute_result"
    }
   ],
   "source": [
    "import pandas as pd\n",
    "import numpy as np\n",
    "\n",
    "data_iris = pd.read_csv('Data/iris.data', header = None)\n",
    "data_iris['out'] = data_iris.iloc[:,4].astype('category').cat.codes\n",
    "\n",
    "data_iris['out'].unique()"
   ]
  },
  {
   "cell_type": "code",
   "execution_count": 15,
   "metadata": {},
   "outputs": [
    {
     "data": {
      "text/html": [
       "<div>\n",
       "<style scoped>\n",
       "    .dataframe tbody tr th:only-of-type {\n",
       "        vertical-align: middle;\n",
       "    }\n",
       "\n",
       "    .dataframe tbody tr th {\n",
       "        vertical-align: top;\n",
       "    }\n",
       "\n",
       "    .dataframe thead th {\n",
       "        text-align: right;\n",
       "    }\n",
       "</style>\n",
       "<table border=\"1\" class=\"dataframe\">\n",
       "  <thead>\n",
       "    <tr style=\"text-align: right;\">\n",
       "      <th></th>\n",
       "      <th>0</th>\n",
       "      <th>1</th>\n",
       "      <th>2</th>\n",
       "      <th>3</th>\n",
       "      <th>4</th>\n",
       "      <th>out</th>\n",
       "    </tr>\n",
       "  </thead>\n",
       "  <tbody>\n",
       "    <tr>\n",
       "      <th>0</th>\n",
       "      <td>5.1</td>\n",
       "      <td>3.5</td>\n",
       "      <td>1.4</td>\n",
       "      <td>0.2</td>\n",
       "      <td>Iris-setosa</td>\n",
       "      <td>0</td>\n",
       "    </tr>\n",
       "    <tr>\n",
       "      <th>1</th>\n",
       "      <td>4.9</td>\n",
       "      <td>3.0</td>\n",
       "      <td>1.4</td>\n",
       "      <td>0.2</td>\n",
       "      <td>Iris-setosa</td>\n",
       "      <td>0</td>\n",
       "    </tr>\n",
       "    <tr>\n",
       "      <th>2</th>\n",
       "      <td>4.7</td>\n",
       "      <td>3.2</td>\n",
       "      <td>1.3</td>\n",
       "      <td>0.2</td>\n",
       "      <td>Iris-setosa</td>\n",
       "      <td>0</td>\n",
       "    </tr>\n",
       "  </tbody>\n",
       "</table>\n",
       "</div>"
      ],
      "text/plain": [
       "     0    1    2    3            4  out\n",
       "0  5.1  3.5  1.4  0.2  Iris-setosa    0\n",
       "1  4.9  3.0  1.4  0.2  Iris-setosa    0\n",
       "2  4.7  3.2  1.3  0.2  Iris-setosa    0"
      ]
     },
     "execution_count": 15,
     "metadata": {},
     "output_type": "execute_result"
    }
   ],
   "source": [
    "data_iris.head(3)"
   ]
  },
  {
   "cell_type": "markdown",
   "metadata": {},
   "source": [
    "\n",
    "### Codificación one-hot\n",
    "\n",
    "La solución está en utilizar la codificación **one-hot!!**. \n",
    "\n",
    "Esta codificación hace lo siguiente, se toma un vector de una dimensión igual al número de clases que haya, en este caso, 3. Todas las componentes del vector estarán a 0, excepto una que tendrá el valor 1 y que corresponderá con la clase que defina. Es decir:\n",
    "\n",
    "- 0 →[1,0,0], \n",
    "- 1 →[0,1,0] , \n",
    "- 2 →[0,0,1]. \n",
    "\n",
    "\n"
   ]
  },
  {
   "cell_type": "code",
   "execution_count": 1,
   "metadata": {},
   "outputs": [],
   "source": [
    "import numpy as np\n",
    "import pandas as pd"
   ]
  },
  {
   "cell_type": "code",
   "execution_count": 3,
   "metadata": {},
   "outputs": [],
   "source": [
    "# Creación de la función one-hot\n",
    "def one_hot(x, n):\n",
    "    if type(x)==list:\n",
    "        x = np.array(x)\n",
    "    x = x.flatten()\n",
    "    o_h = np.zeros((len(x),n))\n",
    "    o_h[np.arange(len(x)), x]=1\n",
    "    return o_h\n"
   ]
  },
  {
   "cell_type": "code",
   "execution_count": 4,
   "metadata": {},
   "outputs": [
    {
     "data": {
      "text/plain": [
       "array([0, 6, 4, 4, 9, 1, 8, 1, 7, 1])"
      ]
     },
     "execution_count": 4,
     "metadata": {},
     "output_type": "execute_result"
    }
   ],
   "source": [
    "#lista de etiquetas y probar la función\n",
    "x = np.random.randint(0,10,10)\n",
    "x"
   ]
  },
  {
   "cell_type": "code",
   "execution_count": 5,
   "metadata": {},
   "outputs": [
    {
     "data": {
      "text/plain": [
       "array([[1., 0., 0., 0., 0., 0., 0., 0., 0., 0.],\n",
       "       [0., 0., 0., 0., 0., 0., 1., 0., 0., 0.],\n",
       "       [0., 0., 0., 0., 1., 0., 0., 0., 0., 0.],\n",
       "       [0., 0., 0., 0., 1., 0., 0., 0., 0., 0.],\n",
       "       [0., 0., 0., 0., 0., 0., 0., 0., 0., 1.],\n",
       "       [0., 1., 0., 0., 0., 0., 0., 0., 0., 0.],\n",
       "       [0., 0., 0., 0., 0., 0., 0., 0., 1., 0.],\n",
       "       [0., 1., 0., 0., 0., 0., 0., 0., 0., 0.],\n",
       "       [0., 0., 0., 0., 0., 0., 0., 1., 0., 0.],\n",
       "       [0., 1., 0., 0., 0., 0., 0., 0., 0., 0.]])"
      ]
     },
     "execution_count": 5,
     "metadata": {},
     "output_type": "execute_result"
    }
   ],
   "source": [
    "one_hot(x, n=10)"
   ]
  },
  {
   "cell_type": "code",
   "execution_count": 6,
   "metadata": {},
   "outputs": [
    {
     "data": {
      "text/plain": [
       "array([[1., 0., 0.],\n",
       "       [0., 1., 0.],\n",
       "       [0., 0., 1.]])"
      ]
     },
     "execution_count": 6,
     "metadata": {},
     "output_type": "execute_result"
    }
   ],
   "source": [
    "a =[0,1,2]\n",
    "one_hot(a, 3)"
   ]
  },
  {
   "cell_type": "markdown",
   "metadata": {},
   "source": [
    "\n",
    "### Red de clasifiación\n",
    "\n",
    "Definamos ahora la red que vamos a utilizar para nuestro clasificador. Se compondrá de: una capa de entrada con 4 entradas (ancho y alto de pétalo y sépalo), 5 neuronas en la capa oculta y 3 neuronas en la capa de salida, dado que hay tres clases. *¿Y por qué cinco neuronas en la capa oculta?*\n",
    "\n",
    "<img src=\"Figures/rediris.png\" width=\"25%\">\n",
    "\n",
    "\n",
    "### Función de activación softmax\n",
    "\n",
    "Habíamos dicho que cada neurona tiene como función de activación la función sigmoide. Vamos a cambiar esto para la **última, y solo para la última capa**. En la última capa quitamos la función sigmoide y colocamos la función **softmax**. \n",
    "La función softmax es parecida a la sigmoide, ésta también convierte cualquier valor a un valor entre cero y uno. La diferencia está en que la función softmax no trabaja sobre un valor sino sobre un vector. De esta forma, convierte todas las componentes de un vector en valores entre cero y uno, pero, además, garantiza que la suma de todos estos valores sea 1. \n",
    ">La salida de la función softmax conforma una **distribución de probabilidad**.\n",
    "\n",
    "La expresión de la función softmax es:\n",
    "\n",
    "$$ Softmax(\\vec{v})_i = \\frac{e^{v_i}}{\\sum_{j=1}^{n}{e^{v_j}}} $$\n",
    "\n",
    "Veamos esto con un poco de código:"
   ]
  },
  {
   "cell_type": "code",
   "execution_count": 16,
   "metadata": {},
   "outputs": [],
   "source": [
    "# programar función softmax\n",
    "def softmax(i,v):\n",
    "    return np.exp(v[i])/np.sum(np.exp(v))"
   ]
  },
  {
   "cell_type": "code",
   "execution_count": 17,
   "metadata": {},
   "outputs": [],
   "source": [
    "a = np.array([8.34, -2.87, 0.002])\n"
   ]
  },
  {
   "cell_type": "code",
   "execution_count": 18,
   "metadata": {},
   "outputs": [
    {
     "name": "stdout",
     "output_type": "stream",
     "text": [
      "0.999747275384849 + 1.3534714121386372e-05 + 0.0002391899010295041 =  0.9999999999999999\n"
     ]
    }
   ],
   "source": [
    "s1 = softmax(0,a)\n",
    "s2 = softmax(1,a)\n",
    "s3 = softmax(2,a)\n",
    "\n",
    "print(s1,'+',s2,'+',s3,'= ', s1+s2+s3)"
   ]
  },
  {
   "cell_type": "code",
   "execution_count": null,
   "metadata": {},
   "outputs": [],
   "source": []
  },
  {
   "cell_type": "markdown",
   "metadata": {},
   "source": [
    "### Función de error\n",
    "\n",
    "Nuestra función de error va a comparar las salidas de la red con la etiqueta. Supongamos que nuestra red devuelve (salida del softmax) para una determinada entrada los valores: $o_1=0.78, o_2=0.03, o_3=0,19$, y que su correspondiente etiqueta es: $(1,0,0)$ en codificación softmax. Por tanto, el error, para esta muestra, será: \n",
    "\n",
    "$$error = (1-0.78)^2 + (0-0.03)^2 + (0-0.19)^2 = 0.0854$$\n",
    "\n",
    "Pero, dado que tenemos 150 muestras, la función de error final la calcularíamos sumando los 150 errores particulares de cada muestra.\n",
    "\n"
   ]
  },
  {
   "cell_type": "markdown",
   "metadata": {},
   "source": [
    "## Creación de Librería de nn\n",
    "\n",
    "Abrimos un archivo de spyder y trabajaremos en lo siguiente:\n",
    "\n",
    "- programar las diferentes funciones de activación\n",
    "- crear la clase Layer\n",
    "- crear la clase Net\n",
    "\n",
    "\n"
   ]
  },
  {
   "cell_type": "code",
   "execution_count": null,
   "metadata": {},
   "outputs": [],
   "source": [
    "import numpy as np\n",
    "import pandas as pd\n",
    "\n",
    "# Creación de la función one-hot\n",
    "def one_hot(x, n):\n",
    "    if type(x)==list:\n",
    "        x = np.array(x)\n",
    "    x = x.flatten()\n",
    "    o_h = np.zeros((len(x),n))\n",
    "    o_h[np.arange(len(x)), x]=1\n",
    "    return o_h\n",
    "\n",
    "##----Funciones de activación\n",
    "\n",
    "# programar función softmax\n",
    "def softmax(i,v):\n",
    "    return np.exp(v[i])/np.sum(np.exp(v))\n",
    "\n",
    "#función sigmoide\n",
    "def sigmoid(x):\n",
    "    return 1/(1+np.exp(-x))\n",
    "\n",
    "#función derivada de sigmoide\n",
    "def sigmoid_der(x):\n",
    "    return x*(1-x)\n",
    "\n",
    "#ReLu\n",
    "def relu(x):\n",
    "    if x>=0:\n",
    "        return x\n",
    "    else:\n",
    "        return 0\n",
    "\n",
    "def relu_der(x):\n",
    "    if x>=0:\n",
    "        return 1\n",
    "    else:\n",
    "        return 0\n",
    "\n",
    "def idintity(x):\n",
    "    return x\n",
    "\n",
    "def identity_der():\n",
    "    return 1\n",
    "\n",
    "#TanH\n",
    "def tanh(x):\n",
    "    return 2/(1+np.exp(-2*x)) - 1\n",
    "\n",
    "def tanh_der(x):\n",
    "    return 1 - x**2\n",
    "\n",
    "activ_f = {\n",
    "    'Sigmoid': (sigmoid, sigmoid_der),\n",
    "    'ReLu': (relu, relu_der),\n",
    "    'Identity': (idintity, idintity_der),\n",
    "    'Tanh': (tanh, tanh_der)\n",
    "}\n",
    "\n",
    "class Layer:\n",
    "    \n",
    "    def __init__(self, rows, columns, activ_f = activ_f['Sigmoid']):\n",
    "        self.rows = rows\n",
    "        self.columns = columns + 1 # Para considerar el bias (e0=1)\n",
    "        self.W_delta = []\n",
    "        self.b_delta = {}\n",
    "        self.activ_f = activ_f[0]\n",
    "        self.activ_f_derivate = activ_f[1]\n",
    "        self.error=[]\n",
    "        self.o = None\n",
    "        self.o_derivate = None\n",
    "        self.w = Layer.create_w(self.rows,self.columns)\n",
    "        \n",
    "        @staticmethod\n",
    "        def create_w(rows,columns):\n",
    "            return np.random.rand(rows, columns)*0.1\n",
    "        \n",
    "        def output(self,x):\n",
    "            x = np.append(x,1)\n",
    "            self.o = self.activ_f(np.dot(self.w,x))\n",
    "            self.o_derivate = activ_f_derivate(self.o)\n",
    "        \n",
    "        def __str__(self):\n",
    "            return \"Layer _______ \\n #Inputs: \"+repr(self.columns-1)+\"\\n #neurons: \" + repr(self.rows)\n",
    "\n",
    "class Net:\n",
    "    \n",
    "    def __init__(self, layers):\n",
    "        self.layers = []\n",
    "        l_prev = layers[0]\n",
    "        #Conexion entre las capas\n",
    "        for l in layers[1:]:\n",
    "            self.layers.append(Layer(l,l_prev))\n",
    "            l_prev = l\n",
    "        self.number_of_layers = len(self.layers)\n",
    "    \n",
    "    def output(self, x):\n",
    "        o_aux = x\n",
    "        for layer in self.layers:\n",
    "            o_aux = layer.output(x)\n",
    "        return o_aux\n",
    "    \n",
    "    def train(self, input_data, labels, lr=0.1):\n",
    "        for x, _y in zip(input_data, labels):\n",
    "            y = self.output(x)\n",
    "            error = y - _y\n",
    "            \n",
    "            for index_layer in range(self.number_of_layers)[:0:-1]:\n",
    "                error = error * self.layers[index_layer].o_derivate\n",
    "                self.layers[index_layer].W_delta = np.dot(error.reshape((len(error),1)), \n",
    "                                                         (np.append(self.layers[index_layer-1].o),1)).reshape(1, len(self.layers[index_layer-1].o)+1)\n",
    "            "
   ]
  },
  {
   "cell_type": "markdown",
   "metadata": {},
   "source": [
    "\n",
    "### Mini-batch\n",
    "\n",
    "La forma de calcular la función de error que acabamos de ver no se hace así en la práctica. Lo entenderemos mejor con la siguiente comparación.\n",
    "\n",
    "Supongamos que queremos saber la media de altura de todos los habitantes del país. Deberíamos medir a cada persona, sumar todas las alturas y dividir por el número total de personas. Esta es la media exacta, pero nos iba a costar mucho poder llevar a cabo todas estas medidas (somos algo más de 126,2 millones). Otra forma mucho más factible sería tomar una muestra de esta población y calcular la media muestral. Si la muestra es suficientemente variada y amplia obtendremos un valor muy aproximado a la media real pero con mucho menos esfuerzo.\n",
    "\n",
    "Algo parecido podemos aplicar sobre la función de error. Si, en lugar de utilizar todo el conjunto de datos para calcular el error y luego el gradiente que nos lleve a un nuevo conjunto de pesos y umbrales, tomamos una muestra variada de los datos para calcular el error, el gradiente que obtendremos será muy parecido y nos llevará mucho menos tiempo. Por lo tanto, podremos avanzar mucho más rápido con el gradiente descendente.\n",
    "\n",
    "A esta muestra (entiéndase como \"muestra poblacional\", no \"muestra\" como elemento del *dataset*)  que tomamos del *dataset* lo llamaremos **mini-batch**.\n",
    "\n",
    "Por ejemplo, en el caso del *dataset* del iris, son 150 muestras, que, una vez bien “barajadas” para que el *mini-batch* sea variado y representativo, podremos tomar mini-lotes de 15 muestras. Teniendo un total de 10 mini-lotes. Con *datasets* pequeños como éste no se aprecia visiblemente la mejora en velocidad, pero con conjuntos de decenas de miles de muestras o más, la reducción de velocidad es drástica.\n",
    "\n",
    "Por tanto, iremos tomando sucesivos *mini-batchs* de forma iterativa hasta completar el número de estos. Cuando hayamos procesado todos los *mini-batchs* diremos que hemos completado una época (**epoch**), y volveremos a repetir todo el proceso hasta  aproximarnos suficientemente a un mínimo local de la función de error.\n"
   ]
  },
  {
   "cell_type": "markdown",
   "metadata": {},
   "source": [
    "### Código\n",
    "\n",
    "Implementemos ya todos estos conceptos. Para ello, utilizaremos el módulo <code>nn</code> que creamos con anterioridad. Este módulo debe incluir una clase denominada <code>Net</code> para implementar redes sencillas de una forma muy simple."
   ]
  },
  {
   "cell_type": "code",
   "execution_count": null,
   "metadata": {},
   "outputs": [],
   "source": [
    "# cargar dataset de iris\n"
   ]
  },
  {
   "cell_type": "code",
   "execution_count": null,
   "metadata": {},
   "outputs": [],
   "source": [
    "#creacion del minibatch\n",
    "      "
   ]
  },
  {
   "cell_type": "code",
   "execution_count": null,
   "metadata": {},
   "outputs": [],
   "source": [
    "# evaluar la clasificación\n"
   ]
  },
  {
   "cell_type": "code",
   "execution_count": null,
   "metadata": {},
   "outputs": [],
   "source": [
    "\n",
    "    "
   ]
  },
  {
   "cell_type": "code",
   "execution_count": null,
   "metadata": {},
   "outputs": [],
   "source": []
  },
  {
   "cell_type": "markdown",
   "metadata": {},
   "source": [
    "### Parámetros e hiperparámetros\n",
    "\n",
    "Es posible que, ya a estas alturas, te estés preguntando cómo se decide el número de capas ocultas que debe tener una red, o cuántas neuronas por capa oculta, cómo establecer el tamaño del mini-batch, el número de épocas... Estos y otros muchos, aún por ver, valores en el diseño de la red se denominan **hiperparámetros**. No son valores que la red aprenda por sí sola, sino que le han de ser dados. No hay un procedimiento sistemático para establecerlos, no hay forma de saber *a priori* cuáles son los mejores valores. En muchos casos, no queda más remedio que probar entre diferentes configuraciones y/o seguir algunas recetas, más o menos fiables, provenientes de la experiencia.\n",
    "\n",
    "Al conjunto de todos los pesos (y umbrales, en el caso de que los tengamos diferenciados de los pesos) los denominamos **parámetros** y, a diferencia de los hiperparámetros, sí son aprendidos por la red."
   ]
  },
  {
   "cell_type": "code",
   "execution_count": null,
   "metadata": {},
   "outputs": [],
   "source": []
  }
 ],
 "metadata": {
  "kernelspec": {
   "display_name": "Python 3 (ipykernel)",
   "language": "python",
   "name": "python3"
  },
  "language_info": {
   "codemirror_mode": {
    "name": "ipython",
    "version": 3
   },
   "file_extension": ".py",
   "mimetype": "text/x-python",
   "name": "python",
   "nbconvert_exporter": "python",
   "pygments_lexer": "ipython3",
   "version": "3.8.8"
  }
 },
 "nbformat": 4,
 "nbformat_minor": 4
}
