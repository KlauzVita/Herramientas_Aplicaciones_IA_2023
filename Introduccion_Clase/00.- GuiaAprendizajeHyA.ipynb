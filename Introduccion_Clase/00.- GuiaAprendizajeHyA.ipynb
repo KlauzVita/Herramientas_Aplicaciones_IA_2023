{
 "cells": [
  {
   "cell_type": "markdown",
   "metadata": {},
   "source": [
    "<img style=\"float: left;;\" src='Figures/alinco.png' /></a>\n",
    "    \n",
    "# <center> <font color= #000047> Herramientas y Aplicaciones de la IA.</font>"
   ]
  },
  {
   "cell_type": "markdown",
   "metadata": {},
   "source": [
    "___\n",
    "<img style=\"float: right; margin: 0px 0px 15px 15px;\" src=\"https://idavinci.es/wp-content/uploads/2018/12/machinelearning.png\" width=\"500px\" height=\"500px\" />\n",
    "\n",
    "\n",
    "\n",
    "#### <font color= #2E9AFE>  `Viernes (17:00 a 21:00 hrs)`</font>\n",
    "#### <font color= #2E9AFE>` Sábados (9:00 a 13:00 hrs) ` </font>\n",
    "- <Strong> Gaddiel Desirena López </Strong>\n",
    "\n",
    "- <Strong> Año </Strong>: 2023\n",
    "\n",
    "- <Strong> Email: </Strong>  <font color=\"blue\"> `gdesirena@gmail.com` </font>\n",
    "___"
   ]
  },
  {
   "cell_type": "markdown",
   "metadata": {},
   "source": [
    "### `Presentación mía`\n",
    "___"
   ]
  },
  {
   "cell_type": "markdown",
   "metadata": {},
   "source": [
    "### `Presentación de ustedes`\n",
    "___"
   ]
  },
  {
   "cell_type": "markdown",
   "metadata": {},
   "source": [
    "### `Algunas reglas de juego`\n",
    "\n",
    "- Deben asistir, mínimo, al 80% de las clases para tener derecho a calificación.\n",
    "- La regla más importante de todas (regla de oro): todas las entregas se realizan a través de la plataforma de ALINNCO los plazos asignados. No se aceptan trabajos fuera de la plataforma ni fuera de plazo. \n",
    "___"
   ]
  },
  {
   "cell_type": "markdown",
   "metadata": {},
   "source": [
    "### `Horario de asesoría`\n",
    "\n",
    "Miércoles 18:00 hrs, otros días: **Escribirme mensaje/correo con anticipación para coordinarnos**\n",
    "___"
   ]
  },
  {
   "cell_type": "markdown",
   "metadata": {},
   "source": [
    "### `Descripción de la asignatura`\n",
    "\n",
    "La Inteligencia Artificial es la inteligencia que permite que las máquinas resuelvan problemas de forma autónoma. Una de las ramas de estudio que cada vez esta ganando más popularidad dentro de las [ciencias de la computación](https://es.wikipedia.org/wiki/Ciencias_de_la_computaci%C3%B3n) es el ***aprendizaje automático*** o ***[Machine Learning](https://es.wikipedia.org/wiki/Aprendizaje_autom%C3%A1tico)***. Muchos de los servicios que utilizamos en nuestro día a día como google, gmail, netflix, spotify o amazon se valen de las herramientas que les brinda el [Machine Learning](https://es.wikipedia.org/wiki/Aprendizaje_autom%C3%A1tico) para alcanzar un servicio cada vez más personalizado y lograr así ventajas competitivas sobre sus rivales. Actualmente cualquier trabajo que requiera un elevado grado de computación y de análisis de datos es susceptible de ser mejorado y optimizado gracias al uso de Inteligencia Artificial. Las aplicaciones de la IA están en todos los ámbitos de la sociedad, su aplicación es viable en casi cualquier sector empresarial o particular.  \n"
   ]
  },
  {
   "cell_type": "markdown",
   "metadata": {},
   "source": [
    "#### `OBJETIVO GENERAL `\n",
    ">  <p style='text-align: justify;'> Aprender aplicar los conceptos, principios, teorías y modelos relacionados con el área de inteligencia artificial; diseñar y desarrollar sistemas inteligentes y sus aplicaciones; Conocer y comprender las técnicas avanzadas de resolución de problemas de Inteligencia Artificial derivadas de los tres tipos de aprendizaje, y su integración en sistemas de información.</p>\n",
    "\n",
    "#### `OBJETIVOS ESPECÍFICOS`\n",
    "\n",
    "* Comprender con la práctica el funcionamiento de algoritmos de ML y su aplicación.\n",
    "\n",
    "* Entender, desde un punto de vista práctico, cómo utilizar ML para darle un **agregado de valor** a los sistemas de información.\n",
    "___"
   ]
  },
  {
   "cell_type": "markdown",
   "metadata": {},
   "source": [
    "### `CONTENIDO TEMÁTICO`"
   ]
  },
  {
   "cell_type": "markdown",
   "metadata": {},
   "source": [
    "\n",
    "`Introducción.` **Introducción a las Herramientas y Aplicaciones de la IA**\n",
    "\n",
    "1. Introducción a Herramientas y Aplicaciones de la IA. \n",
    "    - Aplicaciones en las ciencias de la computación, telecomunicaciones, automatización, minería de datos, entre otras.\n",
    "    \n",
    "2. Análisis de Datos\n",
    "\n",
    "3. Preprocemamiento y Exploración de Datos.\n",
    "\n",
    "4. Medidas de Distancia y Similitud.\n",
    "    \n",
    "   \n",
    "`Módulo 1.` **Algoritmos para aplicaciones en IA**\n",
    "\n",
    "1. Algoritmos de Regresión. \n",
    "    - Regresión Simple, Múltiple, Polinomial.\n",
    "    - Regresión por Arboles de desición\n",
    "    - Regresión por Random Forest.\n",
    "\n",
    "2. Regresión Logistica.\n",
    "\n",
    "3. Máquina de Vector Soporte.\n",
    "    - Kernels en SVM\n",
    "\n",
    "4. Reducción de Dimensionalidad.\n",
    "    - Análisis Principal de Componentes (PCA).\n",
    "    - Kernel PCA.\n",
    "            \n",
    "\n",
    "`Módulo 2.` **Modelos de Redes Neuronales.**\n",
    "    \n",
    "1. Neurona Artificial Básica.\n",
    "    - Arquitectura de una red neuronal.\n",
    "    - Funciones de activación.\n",
    "    - Algoritmos de aprendizaje.\n",
    "    \n",
    "2. Perceptron\n",
    "\n",
    "3. Red Neuronal Multiclase\n",
    "\n",
    "4. Librería Keras para Redes Neuronales en Python\n",
    "\n",
    "`Módulo 3.` **Modelos de Redes Neuronales Convolucionales**\n",
    "    \n",
    "1. Concepto de Convolución.\n",
    "\n",
    "2. Redes Neuronales Convolucionales\n",
    "\n",
    "2. Librería Keras para Redes Convoulucionales\n",
    "\n",
    "3. Aplicaciones\n",
    "\n"
   ]
  },
  {
   "cell_type": "markdown",
   "metadata": {},
   "source": [
    "### `Evaluación`\n",
    "\n",
    "- Tareas 30%\n",
    "- Actividades 30%\n",
    "- Proyecto Final 40%"
   ]
  },
  {
   "cell_type": "markdown",
   "metadata": {},
   "source": [
    "### `Bibliografía `"
   ]
  },
  {
   "cell_type": "markdown",
   "metadata": {},
   "source": [
    "> \n",
    "```\n",
    "\n",
    "- MACKAY, D. J.C. Information Theory, Inference, and Learning Algorithms. Cambridge: Cambridge\n",
    "University Press, 2003. 640 pp. (Cuarta impresión, versión 7.2)\n",
    "- DEISENROTH, M. P., Aldo Faisal, and Cheng Soon Ong. Mathematics for Machine Learning.\n",
    "Published by Cambridge University Press.2020. On line ISBN: 9781108679930\n",
    "- BISHOP, C. M. Pattern Recognition and Machine Learning. Singapore: Springer, 2006. 758 pp. ISBN10: 0-387-31073-8\n",
    "- MOHRI, M., A. Rostamizadeh, and A. Talwalkar. Foundations of Machine Learning. Cambridge: The MIT Press,2012. 427 pp. ISBN 978-0-262-01825-8\n",
    "- SHALEV-SHWARTZ, S. and S. Ben-David. Understanding Machine Learning. From Theory to\n",
    "Algorithms. Cambridge: Cambridge University Press,2014. 449 pp. ISBN 978-1-107-05713-5\n",
    "- https://www.python.org/\n",
    "- https://www.kaggle.com/learn\n",
    "- Python for Scientists by Stewart, John M.\n",
    "- Machine Learning for Time Series Forecasting with Python.\n",
    "- Deep Learning for Time Series Forecasting: Predict the Future with MLPs, CNNs and LSTMs in Python\n",
    "```\n"
   ]
  },
  {
   "cell_type": "code",
   "execution_count": null,
   "metadata": {},
   "outputs": [],
   "source": []
  }
 ],
 "metadata": {
  "anaconda-cloud": {},
  "kernelspec": {
   "display_name": "Python 3 (ipykernel)",
   "language": "python",
   "name": "python3"
  },
  "language_info": {
   "codemirror_mode": {
    "name": "ipython",
    "version": 3
   },
   "file_extension": ".py",
   "mimetype": "text/x-python",
   "name": "python",
   "nbconvert_exporter": "python",
   "pygments_lexer": "ipython3",
   "version": "3.8.8"
  }
 },
 "nbformat": 4,
 "nbformat_minor": 1
}
