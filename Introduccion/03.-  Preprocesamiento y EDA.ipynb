{
 "cells": [
  {
   "cell_type": "markdown",
   "metadata": {},
   "source": [
    "<img style=\"float: left;;\" src='Figures/alinco.png' /></a>\n",
    "\n",
    "# <center> <font color= #000047> Preprocesamiento y Análisis Exploratorio de Datos (EDA) </font> </center>\n",
    "\n"
   ]
  },
  {
   "cell_type": "markdown",
   "metadata": {},
   "source": [
    "### ¿Qué es?\n",
    "\n",
    "Es cuando revisamos por primera vez los datos que nos llegan, por ejemplo un archivo CSV que nos entregan y deberemos intentar comprender **¿de qué se trata?**, vislumbrar posibles patrones y reconociendo distribuciones estadísticas que puedan ser útiles en el futuro.\n",
    "\n",
    "Lo ideal es que tengamos un objetivo que nos hayan *“adjuntado”* con los datos, que indique lo que se quiere conseguir a partir de esos datos. Por ejemplo, nos pasan un excel y nos dicen *“Queremos predecir ventas a 30 días”*, ó *“Clasificar casos malignos/benignos de una enfermedad”*, *“Queremos identificar audiencias que van a realizar re-compra de un producto”*, *“queremos hacer pronóstico de fidelización de clientes/abandonos”*, *“Quiero detectar casos de fraude en mi sistema en tiempo real”*."
   ]
  },
  {
   "cell_type": "markdown",
   "metadata": {},
   "source": [
    "### ¿Que hacer cuando llegar un archivo?\n",
    "\n",
    "- ¿Cuántos registros hay?\n",
    "    - ¿Son demasiado pocos?\n",
    "    - ¿Son muchos y no tenemos Capacidad (CPU+RAM) suficiente para procesarlo?\n",
    "    \n",
    "- ¿Están todas las filas completas ó tenemos campos con valores nulos?\n",
    "    - En caso que haya demasiados nulos: ¿Queda el resto de información inútil?\n",
    "    \n",
    "- ¿Que datos son discretos y cuales continuos?\n",
    "    - Muchas veces sirve obtener el tipo de datos: texto, int, double, float\n",
    "    \n",
    "- Si es un problema de tipo supervisado:\n",
    "    - ¿Cuál es la columna de “salida”? ¿binaria, multiclase?\n",
    "    - ¿Esta balanceado el conjunto salida?\n",
    "    \n",
    "- ¿Cuales parecen ser features importantes? ¿Cuales podemos descartar?\n",
    "\n",
    "- ¿Siguen alguna distribución?\n",
    "\n",
    "- ¿Hay correlación entre features (características)?\n",
    "\n",
    "- En problemas de NLP es frecuente que existan categorías repetidas ó mal tipeadas, ó con mayusculas/minúsculas, singular y plural, por ejemplo “Abogado” y “Abogadas”, “avogado” pertenecerían todos a un mismo conjunto.\n",
    "\n",
    "- ¿Estamos ante un problema dependiente del tiempo? Es decir un TimeSeries.\n",
    "\n",
    "- Si fuera un problema de Visión Artificial: ¿Tenemos suficientes muestras de cada clase y variedad, para poder hacer generalizar un modelo de Machine Learning?\n",
    "\n",
    "- ¿Cuales son los Outliers? (unos pocos datos aislados que difieren drásticamente del resto y “contaminan” ó desvían las distribuciones)\n",
    "    - Podemos eliminarlos? es importante conservarlos?\n",
    "    - son errores de carga o son reales?\n",
    "    \n",
    "- ¿Tenemos posible sesgo de datos? (por ejemplo perjudicar a clases minoritarias por no incluirlas y que el modelo de ML discrimine)\n"
   ]
  },
  {
   "cell_type": "markdown",
   "metadata": {},
   "source": [
    "## Ejemplo"
   ]
  },
  {
   "cell_type": "code",
   "execution_count": null,
   "metadata": {},
   "outputs": [],
   "source": []
  },
  {
   "cell_type": "markdown",
   "metadata": {},
   "source": [
    "## Manejando datos faltantes"
   ]
  },
  {
   "cell_type": "code",
   "execution_count": null,
   "metadata": {},
   "outputs": [],
   "source": []
  },
  {
   "cell_type": "markdown",
   "metadata": {},
   "source": [
    "# Limpieza de los datos"
   ]
  },
  {
   "cell_type": "code",
   "execution_count": null,
   "metadata": {},
   "outputs": [],
   "source": []
  },
  {
   "cell_type": "code",
   "execution_count": null,
   "metadata": {},
   "outputs": [],
   "source": []
  },
  {
   "cell_type": "markdown",
   "metadata": {},
   "source": [
    "### Crear una librería HA_IA que contenga la clase HyAIA"
   ]
  },
  {
   "cell_type": "code",
   "execution_count": null,
   "metadata": {},
   "outputs": [],
   "source": []
  },
  {
   "cell_type": "markdown",
   "metadata": {},
   "source": [
    "## Reporte de Calidad de Datos"
   ]
  },
  {
   "cell_type": "code",
   "execution_count": null,
   "metadata": {},
   "outputs": [],
   "source": []
  },
  {
   "cell_type": "markdown",
   "metadata": {},
   "source": [
    "## Actividad.\n",
    "Modificar la función dqr() para tener lo siguiente:\n",
    "\n",
    ">1.- Crear una columna que sea booleana ('Is_categorical' True-->col categorica, False ---> numérica)\n",
    "\n",
    ">2.- Crear una columna con las categorías de las columnas que resulten ser categóricas (if categorias >10, no ponerlas)\n",
    "\n",
    ">3.- Aplicar el análisis estadístico de las columnas creadas (max, min, mean, std) solo para las columnas que sean numéricas ('Is_categorical' == False)\n"
   ]
  },
  {
   "cell_type": "code",
   "execution_count": null,
   "metadata": {},
   "outputs": [],
   "source": []
  },
  {
   "cell_type": "markdown",
   "metadata": {},
   "source": [
    "# EDA utilizando el reporte de calidad de datos"
   ]
  },
  {
   "cell_type": "code",
   "execution_count": null,
   "metadata": {},
   "outputs": [],
   "source": []
  },
  {
   "cell_type": "markdown",
   "metadata": {},
   "source": [
    "#### Preprocesamiento"
   ]
  },
  {
   "cell_type": "code",
   "execution_count": null,
   "metadata": {},
   "outputs": [],
   "source": []
  },
  {
   "cell_type": "code",
   "execution_count": null,
   "metadata": {},
   "outputs": [],
   "source": []
  },
  {
   "cell_type": "markdown",
   "metadata": {},
   "source": [
    "## Actividad\n",
    "\n",
    "1. ¿cuáles son los países que tienen como currency name == Peso?\n",
    "2. ¿cuáles son los 5 países más grandes (área) que tienen como currency name == Peso ?\n",
    "3. ¿cuáles son los 5 países más grandes (en población) que tienen como currency name == Peso ?\n",
    "4. ¿Cuáles son los países y currency code, con currency name== Peso?"
   ]
  },
  {
   "cell_type": "code",
   "execution_count": null,
   "metadata": {},
   "outputs": [],
   "source": []
  }
 ],
 "metadata": {
  "kernelspec": {
   "display_name": "Python 3 (ipykernel)",
   "language": "python",
   "name": "python3"
  },
  "language_info": {
   "codemirror_mode": {
    "name": "ipython",
    "version": 3
   },
   "file_extension": ".py",
   "mimetype": "text/x-python",
   "name": "python",
   "nbconvert_exporter": "python",
   "pygments_lexer": "ipython3",
   "version": "3.8.8"
  }
 },
 "nbformat": 4,
 "nbformat_minor": 4
}
