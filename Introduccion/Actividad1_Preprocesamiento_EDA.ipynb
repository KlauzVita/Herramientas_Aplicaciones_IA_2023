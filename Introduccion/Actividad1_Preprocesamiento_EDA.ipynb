{
 "cells": [
  {
   "cell_type": "markdown",
   "metadata": {},
   "source": [
    "<img style=\"float: left;;\" src='Figures/alinco.png' /></a>\n",
    "\n",
    "# <center> <font color= #000047> Actividad 1: Preprocesamiento y EDA </font>\n",
    "___\n",
    "\n",
    "        "
   ]
  },
  {
   "cell_type": "markdown",
   "metadata": {},
   "source": [
    "### Considere el dataframe que se encuentra en \"Airbn_Data.csv\", cargue el dataframe (pd.read_csv()) y realice lo que se pide:"
   ]
  },
  {
   "cell_type": "markdown",
   "metadata": {},
   "source": [
    "<hr>   \n",
    "\n",
    "> Realizar un reporte de calidad de datos y comente sus resultados.\n"
   ]
  },
  {
   "cell_type": "code",
   "execution_count": null,
   "metadata": {},
   "outputs": [],
   "source": []
  },
  {
   "cell_type": "markdown",
   "metadata": {},
   "source": [
    "> Mostrar las columnas categóricas ordinales, mostrar las columnas categóricas nominales, Mostrar las columnas continuas, Mostrar las columnas binarias.\n"
   ]
  },
  {
   "cell_type": "code",
   "execution_count": null,
   "metadata": {},
   "outputs": [],
   "source": []
  },
  {
   "cell_type": "markdown",
   "metadata": {},
   "source": [
    "> Usando el reporte de calidad de datos obtenido, realizar una limpieza de datos, dejar sólo en el data frame las columnas que contengan el 80% o más de valores presentes. Rellenar los datos \"NaN\" (missing) según el tipo de dato (categoricos --> unk, continuos --> promedio).\n"
   ]
  },
  {
   "cell_type": "code",
   "execution_count": null,
   "metadata": {},
   "outputs": [],
   "source": []
  },
  {
   "cell_type": "markdown",
   "metadata": {},
   "source": [
    "\n",
    "> Realizar una limpieza de datos en las columnas:\n",
    "\n",
    "> Eliminar la columna \"license\"\n",
    "\n",
    "> La columna **\"service fee\"** contiene un caracter de símbolo de pesos qué se encuentra antes del valor numérico, esto hace que esta columna se considere como 'Object'. Esta columna deberá de ser una columna continua. Realizar una limpieza eliminando el caracter de pesos y convertirlo a un dato continuo. **Hint:** realizar un [cast](https://thedataschools.com/python/casting/)(float)\n",
    "\n",
    "> La columna **\"last review\"** debe de tener el formato : **xx/xx/xxxx, ejemplo 7/5/2019 ----> 07/05/2019**, realizar una función para ralizar esta conversión y aplicar esta función a la columna \"last review\" (**Hint:** utilice el método apply()).\n",
    "\n",
    "> La columna **\"NAME\"** debe de estar en Minúsculas, cambiar el caracter '&' por ' and '\n",
    "\n",
    "> La columna **\"host id\"** debe de contener 11 dígitos, cualquier muestra que contenga más o menos de 11 dígitos será una muestra invalida y se tendrá que eliminar.\n",
    "\n"
   ]
  },
  {
   "cell_type": "code",
   "execution_count": null,
   "metadata": {},
   "outputs": [],
   "source": []
  },
  {
   "cell_type": "markdown",
   "metadata": {},
   "source": [
    "> Obtener 5 insights de los datos después de haber hecho la limpieza: \n",
    "\n",
    "> ¿Cuál es el rango de tiempo que cubre el dataset?\n",
    "\n",
    "> ¿Cuántos países diferentes se toman en cuenta en el dataset?\n",
    "\n",
    "> ¿Cuál es la distribución de salarios en el dataset por 'neighbourhood group'?\n",
    "\n",
    "> ¿Qué vecindario ('neighbourhood group') tiene el mayor número de hosts?\n",
    "\n",
    "> ¿Cuáles y cuántos son los diferentes tipos de cuartos disponibles en el dataset?\n",
    " "
   ]
  },
  {
   "cell_type": "code",
   "execution_count": null,
   "metadata": {},
   "outputs": [],
   "source": []
  },
  {
   "cell_type": "markdown",
   "metadata": {},
   "source": [
    "\n",
    "> Filtre el datasete que se obtenga del procedimiento anterior} con las siguientes columnas: **host id','lat', 'long', 'Construction year', 'service fee', 'reviews per month', 'review rate number','availability 365']**. Aplicar el método **set_index** a la columna 'host id' de tal forma que el indice del dataframe sea 'host_id'. Apartir del dataset obtenido, cree una matriz de similitud por distancia euclideana estandarizada.\n"
   ]
  },
  {
   "cell_type": "code",
   "execution_count": null,
   "metadata": {},
   "outputs": [],
   "source": []
  },
  {
   "cell_type": "markdown",
   "metadata": {},
   "source": [
    ">Obtenga el top 5 de **'host_id'** más parecidas al **'host_id' = '92037596077'**\n",
    " \n"
   ]
  },
  {
   "cell_type": "markdown",
   "metadata": {},
   "source": []
  }
 ],
 "metadata": {
  "kernelspec": {
   "display_name": "Python 3 (ipykernel)",
   "language": "python",
   "name": "python3"
  },
  "language_info": {
   "codemirror_mode": {
    "name": "ipython",
    "version": 3
   },
   "file_extension": ".py",
   "mimetype": "text/x-python",
   "name": "python",
   "nbconvert_exporter": "python",
   "pygments_lexer": "ipython3",
   "version": "3.8.8"
  }
 },
 "nbformat": 4,
 "nbformat_minor": 4
}
