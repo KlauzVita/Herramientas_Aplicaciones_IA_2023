{
 "cells": [
  {
   "cell_type": "markdown",
   "metadata": {},
   "source": [
    "<img style=\"float: left;;\" src='Figures/alinco.png' /></a>\n",
    "\n",
    "# <center> <font color= #000047> Introducción a Herramientas y Aplicaciones de la IA</font>\n",
    "    \n",
    "___"
   ]
  },
  {
   "cell_type": "markdown",
   "metadata": {},
   "source": [
    "# Introducción\n",
    "\n",
    "**La inteligencia artificial (IA)** está revolucionando muchas industrias y sectores de la sociedad, y su uso se está extendiendo rápidamente en todo el mundo. La capacidad de la IA para procesar grandes cantidades de datos y aprender de ellos ha llevado a una serie de aplicaciones útiles en campos como la medicina, la ingeniería, la educación y el comercio. Sin embargo, el desarrollo de la IA no es fácil y requiere conocimientos avanzados en algoritmos y lenguajes de programación específicos.\n",
    "\n",
    "Una de las mayores preocupaciones de aquellos que desean trabajar con IA es cómo elegir la mejor herramienta para sus proyectos. Hay muchas opciones disponibles en el mercado, y cada herramienta es adecuada para un conjunto diferente de aplicaciones. Por ejemplo, **Python** es un lenguaje de programación popular para la IA, pero no es el único. También existen herramientas especializadas en machine learning, que es una rama específica de la IA que se enfoca en desarrollar algoritmos capaces de aprender de los datos."
   ]
  },
  {
   "cell_type": "markdown",
   "metadata": {},
   "source": [
    "## Aplicaciones de la IA\n",
    "\n",
    "La inteligencia Artificial tiene una amplia gama de aplicaciones, incluyendo \n",
    ">Motores de búsqueda\n",
    "\n",
    ">Diagnósticos médicos\n",
    "\n",
    ">Detección de fraude en el uso de tarjetas de crédito\n",
    "\n",
    ">Análisis del mercado de valores\n",
    "\n",
    ">Clasificación de secuencias de ADN\n",
    "\n",
    ">Reconocimiento del habla y del lenguaje escrito\n",
    "\n",
    ">Juegos y Robótica.\n",
    "\n",
    ">etc..\n",
    "\n",
    "**Pero para poder abordar cada uno de estos temas es crucial en primer lugar distingir los distintos tipos de problemas de Machine Learning  con los que nos podemos encontrar.**\n",
    "\n",
    "### Aprendizaje supervisado\n",
    "\n",
    "En los problemas de *aprendizaje supervisado* se enseña o entrena al algoritmo a partir de datos que ya vienen etiquetados con la respuesta correcta. Cuanto mayor es el conjunto de datos más el  algoritmo puede aprender sobre el tema. Una vez concluído el entrenamiento, se le brindan nuevos datos, ya sin las etiquetas de las respuestas correctas, y el algoritmo de aprendizaje utiliza la experiencia pasada que adquirió durante la etapa de entrenamiento para predecir un resultado. Esto es similar al método de aprendizaje que se utiliza en las escuelas, donde se nos enseñan problemas y las formas de resolverlos, para que luego podamos aplicar los mismos métodos en situaciones similares.\n",
    "\n",
    "### Aprendizaje no supervisado\n",
    "\n",
    "En los problemas de aprendizaje no supervisado el algoritmo es entrenado usando un conjunto de datos que no tiene ninguna etiqueta; en este caso, nunca se le dice al algoritmo lo que representan los datos. La idea es que el algoritmo pueda encontrar por si solo patrones que ayuden a entender el conjunto de datos. El aprendizaje no supervisado es similar al método que utilizamos para aprender a hablar cuando somos bebes, en un principio escuchamos hablar a nuestros padres y no entendemos nada; pero a medida que vamos escuchando miles de conversaciones, nuestro cerebro comenzará a formar un modelo sobre cómo funciona el lenguaje y comenzaremos a reconocer patrones y a esperar ciertos sonidos. \n",
    "\n",
    "### Aprendizaje por refuerzo\n",
    "\n",
    "En los problemas de aprendizaje por refuerzo, el algoritmo aprende observando el mundo que le rodea. Su información de entrada es el feedback o retroalimentación que obtiene del mundo exterior como respuesta a sus acciones. Por lo tanto, el sistema aprende a base de ensayo-error. Un buen ejemplo de este tipo de aprendizaje lo podemos encontrar en los juegos, donde vamos probando nuevas estrategias y vamos seleccionando y perfeccionando aquellas que nos ayudan a ganar el juego. A medida que vamos adquiriendo más practica, el efecto acumulativo del refuerzo a nuestras acciones victoriosas terminará creando una estrategia ganadora."
   ]
  },
  {
   "cell_type": "markdown",
   "metadata": {},
   "source": [
    "## Herramientas y Librerías de Python para modelos de IA con Machine Learning\n",
    "\n",
    "Una de las grandes ventajas que ofrece Python sobre otros lenguajes de programación; es lo grande y prolifera que es la comunidad de desarrolladores que lo rodean; comunidad que ha contribuido con una gran variedad de librerías de primer nivel que extienden la funcionalidades del lenguaje. Para el caso de Machine Learning, las principales librerías que podemos utilizar son: \n",
    "\n",
    "### SciPy\n",
    "\n",
    "La librería Scipy está formada por una serie de módulos que proporcionan funcionalidad para resolver el cómputo de tareas científicas y analíticas. Entre estos módulos podemos encontrar soluciones de álgebra lineal, integración, optimización, interpolación, procesamiento de señales, procesamiento de imagen, etc. La estructura de datos utilizada por SciPy se trata de los arrays multidimensionales proporcionados por el módulo de Numpy, es decir, para la ejecución de sus operaciones SciPy depende de Numpy. \n",
    "\n",
    "Debido al rápido crecimiento del ML, los desarrolladores se lanzaron a crear distintas librerías de Python para Machine Learning. Este hecho es el que motivó al creador de SciPy en 2001 a aunar las distintas funcionalidades y estandarizarlas, dando lugar a esta librería. \n",
    "\n",
    "<img alt=\"Datos categóricos con Python\" title=\"Datos categóricos con Python\" src=\"https://iasolver.es/wp-content/uploads/2021/06/scipy-logo.jpg\" high=200px width=300px>\n",
    "\n",
    "\n",
    "### Scikit-Learn\n",
    "\n",
    "**scikit-learn** la principal librería que existe para trabajar con Machine Learning, incluye la implementación de un gran número de algoritmos de aprendizaje. La podemos utilizar para clasificaciones, extraccion de características, regresiones, agrupaciones, reducción de dimensionalidad, selección de modelos y preprocesamiento. Posee una API que es consistente en todos los modelos y se integra muy bien con el resto de los paquetes científicos que ofrece Python. Esta librería también nos facilita las tareas de evaluación, diagnostico y validaciones cruzadas ya que nos proporciona varios métodos de fábrica para poder realizar estas tareas en forma muy simple. \n",
    "\n",
    "<img alt=\"Datos categóricos con Python\" title=\"Datos categóricos con Python\" src=\"https://iasolver.es/wp-content/uploads/2021/06/scikit-learn-logo.jpg\" high=200px width=300px>\n",
    "\n",
    "### Statsmodels\n",
    "\n",
    "**Statsmodels** es otra gran librería que hace foco en modelos estadísticos y se utiliza principalmente para análisis predictivos y exploratorios. Al igual que Scikit-learn, también se integra muy bien con el resto de los paquetes cientificos de Python. Si deseamos ajustar modelos lineales, hacer una análisis estadístico, o tal vez un poco de modelado predictivo, entonces **Statsmodels** es la librería ideal. Las pruebas estadísticas que ofrece son bastante amplias y abarcan tareas de validación para la mayoría de los casos. \n",
    "\n",
    "<img alt=\"Datos categóricos con Python\" title=\"Datos categóricos con Python\" src=\"https://www.statsmodels.org/stable/_images/statsmodels-logo-v2-horizontal.svg\" high=200px width=300px>\n",
    "\n",
    "\n",
    "### PyMC\n",
    "\n",
    "pyMC es un módulo de Python que implementa modelos estadísticos bayesianos, incluyendo la **cadena de Markov Monte Carlo(MCMC)**. pyMC ofrece funcionalidades para hacer el análisis bayesiano lo mas simple posible. Incluye los modelos bayesianos, distribuciones estadísticas y herramientas de diagnostico  para la covarianza de los modelos. Si queremos realizar un análisis bayesiano esta es sin duda la librería a utilizar.\n",
    "\n",
    "<img alt=\"Datos categóricos con Python\" title=\"Datos categóricos con Python\" src=\"https://www.pymc.io/_static/PyMC.jpg\" high=200px width=300px>\n",
    "\n",
    "\n",
    "### NTLK\n",
    "\n",
    "NLTK es la librería líder para el procesamiento del lenguaje natural o NLP por sus siglas en inglés. Proporciona interfaces fáciles de usar a más de 50 cuerpos y recursos léxicos, como WordNet, junto con un conjunto de bibliotecas de procesamiento de texto para la clasificación, tokenización, el etiquetado, el análisis y el razonamiento semántico. \n",
    "\n",
    "Obviamente, aquí solo estoy listando unas pocas de las muchas librerías que existen en Python para trabajar con problemas de Machine Learning, los invito a realizar su propia investigación sobre el tema.\n",
    "\n",
    "<img alt=\"Datos categóricos con Python\" title=\"Datos categóricos con Python\" src=\"https://miro.medium.com/v2/resize:fit:720/format:webp/1*-dNH8WI8Oy3etClaRvRCgw.png\" high=200px width=300px>\n",
    "\n",
    "\n",
    "### TensorFlow\n",
    "\n",
    "\n",
    "Tensorflow es una de las librerías open source más importantes de Deep Learning y ha sido creada por Google. Está formada por un ecosistema flexible de herramientas, librerías y recursos de la comunidad y ayuda a los investigadores a innovar aplicando técnicas de Machine Learning. Además, permite a los desarrolladores incorporar este tipo de tecnologías en sus aplicaciones.\n",
    "\n",
    "Tensorflow permite la compilación y entrenamiento de modelos de ML de una forma sencilla utilizando sus API. Entre estas destaca Keras, API de alto nivel utilizada para protipado rápido, investigación de vanguardia y soluciones productivizadas. Entre las características de Keras destacan su interfaz simple y optimizada para casos comunes, la modularidad mediante el uso de bloques y la facilidad de adaptar estos bloques para aplicar nuevos descubrimientos estado del arte.\n",
    "\n",
    "<img alt=\"Datos categóricos con Python\" title=\"Datos categóricos con Python\" src=\"https://iasolver.es/wp-content/uploads/2021/06/tensorflow-logo.jpg\" high=200px width=300px>"
   ]
  },
  {
   "cell_type": "markdown",
   "metadata": {},
   "source": [
    "### ¿Cómo utilizar las herramientas de IA?\n",
    "Para programar y utilizar herramientas de IA, se requieren habilidades específicas en lenguajes y programación, como Python y otros lenguajes de programación de Machine Learning. Al aprender estos lenguajes y tecnologías, las empresas pueden aprovechar todo el potencial de la IA en sus productos y servicios.\n",
    "\n",
    "El aprendizaje automático es uno de los pilares de la IA, que permite a las máquinas aprender de los datos y mejorar su rendimiento con el tiempo. Los desarrolladores de IA pueden crear modelos de aprendizaje automático que se adecuen a las necesidades empresariales. Al aprender cómo funciona el aprendizaje automático y cómo aplicarlo a diferentes problemas empresariales, las empresas pueden utilizar la IA para optimizar y automatizar sus procesos de manera más efectiva."
   ]
  },
  {
   "cell_type": "markdown",
   "metadata": {
    "collapsed": true
   },
   "source": [
    "## Pasos para construir un modelo de Machine Learning\n",
    "\n",
    "Construir un modelo de Machine Learning, no se reduce solo a utilizar un algoritmo de aprendizaje o utilizar una librería; sino que es todo un proceso que suele involucrar los siguientes pasos:\n",
    "\n",
    "1. **Recolectar los datos**. Podemos recolectar los datos desde muchas fuentes, podemos por ejemplo extraer los datos de un sitio web o obtener los datos utilizando una API o desde una base de datos. Podemos también utilizar otros dispositivos que recolectan los datos por nosotros; o utilizar datos que son de dominio público. El número de opciones que tenemos para recolectar datos no tiene fin!. Este paso parece obvio, pero es uno de los que más complicaciones trae y más tiempo consume. \n",
    "\n",
    "2. **Preprocesar los datos**. Una vez que tenemos los datos, tenemos que asegurarnos que tiene el formato correcto para nutrir nuestro algoritmo de aprendizaje. Es prácticamente inevitable tener que realizar varias tareas de preprocesamiento antes de poder utilizar los datos. Igualmente este punto suele ser mucho más sencillo que el paso anterior.\n",
    "\n",
    "3. **Explorar los datos**. Una vez que ya tenemos los datos y están con el formato correcto, podemos realizar un pre análisis para corregir los casos de valores faltantes o intentar encontrar a simple vista algún patrón en los mismos que nos facilite la construcción del modelo. En esta etapa suelen ser de mucha utilidad las medidas estadísticas y los gráficos en 2 y 3 dimensiones para tener una idea visual de como se comportan nuestros datos. En este punto podemos detectar valores atípicos que debamos descartar; o encontrar las características que más influencia tienen para realizar una predicción.\n",
    "\n",
    "4. **Entrenar el algoritmo**. Aquí es donde comenzamos a utilizar las técnicas de Machine Learning realmente. En esta etapa nutrimos al o los algoritmos de aprendizaje con los datos que venimos procesando en las etapas anteriores. La idea es que los algoritmos puedan extraer información útil de los datos que le pasamos para luego poder hacer predicciones. \n",
    "\n",
    "5. **Evaluar el algoritmo**. En esta etapa ponemos a prueba la información o conocimiento que el algoritmo obtenido del entrenamiento del paso anterior. Evaluamos que tan preciso es el algoritmo en sus predicciones y si no estamos muy conforme con su rendimiento, podemos volver a la etapa anterior y continuar entrenando el algoritmo cambiando algunos parámetros hasta lograr un rendimiento aceptable.  \n",
    "6. **Utilizar el modelo**. En esta ultima etapa, ya ponemos a nuestro modelo a enfrentarse al problema real. Aquí también podemos medir su rendimiento, lo que tal vez nos obligue a revisar todos los pasos anteriores. "
   ]
  },
  {
   "cell_type": "markdown",
   "metadata": {
    "collapsed": true
   },
   "source": [
    "## Algoritmos más utilizados\n",
    "\n",
    "Los algoritmos que más se suelen utilizar en los problemas de Machine Learning son los siguientes:\n",
    "\n",
    "1. [Regresión Lineal](https://es.wikipedia.org/wiki/Regresi%C3%B3n_lineal)\n",
    "2. [Regresión Logística](https://es.wikipedia.org/wiki/Regresi%C3%B3n_log%C3%ADstica)\n",
    "3. [Arboles de Decision](https://es.wikipedia.org/wiki/%C3%81rbol_de_decisi%C3%B3n)\n",
    "4. [Random Forest](https://es.wikipedia.org/wiki/Random_forest)\n",
    "5. [SVM](https://es.wikipedia.org/wiki/M%C3%A1quinas_de_vectores_de_soporte) o Máquinas de vectores de soporte.\n",
    "6. [Hierarchical clustering](https://es.wikipedia.org/wiki/K-vecinos_m%C3%A1s_cercanos) o Clustering Jerárquico.\n",
    "7. [K-means](https://es.wikipedia.org/wiki/K-means)\n"
   ]
  },
  {
   "cell_type": "code",
   "execution_count": null,
   "metadata": {},
   "outputs": [],
   "source": []
  }
 ],
 "metadata": {
  "kernelspec": {
   "display_name": "Python 3 (ipykernel)",
   "language": "python",
   "name": "python3"
  },
  "language_info": {
   "codemirror_mode": {
    "name": "ipython",
    "version": 3
   },
   "file_extension": ".py",
   "mimetype": "text/x-python",
   "name": "python",
   "nbconvert_exporter": "python",
   "pygments_lexer": "ipython3",
   "version": "3.8.8"
  }
 },
 "nbformat": 4,
 "nbformat_minor": 1
}
