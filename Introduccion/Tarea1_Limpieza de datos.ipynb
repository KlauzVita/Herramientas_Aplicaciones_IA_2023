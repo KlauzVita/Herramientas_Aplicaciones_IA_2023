{
 "cells": [
  {
   "cell_type": "markdown",
   "metadata": {},
   "source": [
    "<img style=\"float: left;;\" src='Figures/alinco.png' /></a>\n",
    "\n",
    "# <center> <font color= #000047> Tarea 1: Limpieza de datos</font>\n",
    "___\n"
   ]
  },
  {
   "cell_type": "markdown",
   "metadata": {},
   "source": [
    "**1. En clase se mostró un ejemplo de la limpieza de una base datos ejemplo “dirty_data.csv”, de la que se logró hacer la estandarización de los nombres de las personas, y las fechas de nacimiento. En la columna “ssn” se requiere los siguientes cambios:**\n",
    "    - Cada registro solo debe de contener números.\n",
    "    - Cada registro debe de contener 9 dígitos para ser un registro válido, de otra forma el registro es “missing”.\n",
    "    - No se quieren espacios, ni guiones o algún otro símbolo especial en cada registro.\n",
    "\n"
   ]
  },
  {
   "cell_type": "code",
   "execution_count": null,
   "metadata": {},
   "outputs": [],
   "source": [
    "#Cada registro solo debe de contener números."
   ]
  },
  {
   "cell_type": "code",
   "execution_count": null,
   "metadata": {},
   "outputs": [],
   "source": [
    "# Cada registro debe de contener 9 dígitos para ser un registro válido, de otra forma el registro es “missing”."
   ]
  },
  {
   "cell_type": "code",
   "execution_count": null,
   "metadata": {},
   "outputs": [],
   "source": [
    "# No se quieren espacios, ni guiones o algún otro símbolo especial en cada registro."
   ]
  },
  {
   "cell_type": "markdown",
   "metadata": {},
   "source": [
    "**2. Utiliza las mismas funciones para limpiar la base de datos llamada “dirty_Info_Alumnos_v1.csv”. El ejercicio consiste en normalizar toda la tabla teniendo encuentra las siguientes consideraciones:**\n",
    "    - Dejar los nombres correctos en mayúsculas.\n",
    "    - Eliminar todos los caracteres especiales de la columna teléfono.\n",
    "    - Cuando no se tenga la longitud de 10 dígitos en el teléfono, se considerará el dato como “missing”.\n",
    "    - Dejar solo números en la columna semestre.\n",
    "    - Si el número de expediente no tiene 6 dígitos considerarlo como “missing”."
   ]
  },
  {
   "cell_type": "code",
   "execution_count": null,
   "metadata": {},
   "outputs": [],
   "source": [
    "# Dejar los nombres correctos en mayúsculas."
   ]
  },
  {
   "cell_type": "code",
   "execution_count": null,
   "metadata": {},
   "outputs": [],
   "source": []
  }
 ],
 "metadata": {
  "kernelspec": {
   "display_name": "Python 3 (ipykernel)",
   "language": "python",
   "name": "python3"
  },
  "language_info": {
   "codemirror_mode": {
    "name": "ipython",
    "version": 3
   },
   "file_extension": ".py",
   "mimetype": "text/x-python",
   "name": "python",
   "nbconvert_exporter": "python",
   "pygments_lexer": "ipython3",
   "version": "3.8.8"
  }
 },
 "nbformat": 4,
 "nbformat_minor": 2
}
