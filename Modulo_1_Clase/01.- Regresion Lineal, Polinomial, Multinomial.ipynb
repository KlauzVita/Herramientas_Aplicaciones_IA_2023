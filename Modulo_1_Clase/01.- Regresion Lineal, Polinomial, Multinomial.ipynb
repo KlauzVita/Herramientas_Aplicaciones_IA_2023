{
 "cells": [
  {
   "cell_type": "markdown",
   "id": "fe1d9242",
   "metadata": {},
   "source": [
    "<img style=\"float: left;;\" src='Figures/alinco.png' /></a>\n",
    "\n",
    "\n",
    "# <center> <font color= #000047>  Módulo 1: Regresion Lineal, Multiple y Polinomial"
   ]
  },
  {
   "cell_type": "markdown",
   "id": "e53a8eab",
   "metadata": {},
   "source": [
    "## Regresión Lineal\n",
    "Consideremos un polinomio de grado uno:\n",
    "\n",
    "$$y = \\beta_1 x + \\beta_0.$$\n",
    "\n",
    "Esta es una **línea recta** que tiene pendiente $\\beta_1$. Sabemos que habrá una línea conectando dos puntos cualesquiera. Por tanto, *una ecuación polinómica de primer grado es un ajuste perfecto entre dos puntos*.\n",
    "\n",
    "Si consideramos ahora un polinomio de segundo grado,\n",
    "\n",
    "$$y = \\beta_2 x^2 + \\beta_1 x + \\beta_0,$$\n",
    "\n",
    "este se ajustará exactamente a tres puntos. Si aumentamos el grado de la función a la de un polinomio de tercer grado, obtenemos:\n",
    "\n",
    "$$y = \\beta_3 x^3 + \\beta_2 x^2 + \\beta_1 x + \\beta_0,$$\n",
    "\n",
    "que se ajustará a cuatro puntos.\n",
    "\n",
    "**Ejemplos**\n",
    "1. Encontrar la línea recta que pasa exactamente por los puntos $(0,1)$ y $(1,0)$.\n",
    "2. Encontrar la parábola que pasa exactamente por los puntos $(-1,1)$, $(0,0)$ y $(1,1)$.\n",
    "\n",
    "**Solución**\n",
    "1. Consideramos $y=\\beta_1 x + \\beta_0$. Evaluando en el punto $(0,1)$, obtenemos $\\beta_1(0) + \\beta_0 = 1$. Ahora, evaluando en el punto $(1,0)$, obtenemos $\\beta_1(1) + \\beta_0 = 0$. De esta manera,\n",
    "$$\\left[\\begin{array}{cc} 1 & 0 \\\\ 1 & 1\\end{array}\\right]\\left[\\begin{array}{c} \\beta_0 \\\\ \\beta_1\\end{array}\\right]=\\left[\\begin{array}{c} 1 \\\\ 0\\end{array}\\right].$$\n",
    "Resolviendo, $\\beta_0=-\\beta_1=1$.\n",
    "\n",
    "2. Consideramos $y=\\beta_2 x^2 + \\beta_1 x + \\beta_0$. Evaluando en el punto $(-1,1)$, obtenemos $\\beta_2(-1)^2 + \\beta_1(-1) + \\beta_0 = 1$. Ahora, evaluando en el punto $(0,0)$, obtenemos $\\beta_2(0)^2 + \\beta_1(0) + \\beta_0 = 0$. Finalmente, evaluando en el punto $(1,1)$, obtenemos $\\beta_2(1)^2 + \\beta_1(1) + \\beta_0 = 1$. De esta manera,\n",
    "$$\\left[\\begin{array}{ccc} 1 & -1 & 1 \\\\ 1 & 0 & 0 \\\\ 1 & 1 & 1 \\end{array}\\right]\\left[\\begin{array}{c} \\beta_0 \\\\ \\beta_1 \\\\ \\beta_2 \\end{array}\\right]=\\left[\\begin{array}{c} 1 \\\\ 0 \\\\ 1 \\end{array}\\right].$$\n",
    "Resolviendo, $\\beta_0=\\beta_1=0$ y $\\beta_2=1$."
   ]
  },
  {
   "cell_type": "markdown",
   "id": "441a82dd",
   "metadata": {},
   "source": [
    "### ¿Qué tienen en común los anteriores problemas?\n",
    "Las curvas están completamente determinadas por los puntos (datos limpios, suficientes y necesarios).\n",
    "\n",
    "Esto se traduce en que, al llevar el problema a un sistema de ecuaciones lineales, existe una única solución: **no hay necesidad, ni se puede optimizar nada**.\n",
    "\n",
    "La realidad es que los datos que encontraremos en nuestra vida profesional se parecen más a esto..."
   ]
  },
  {
   "cell_type": "code",
   "execution_count": 1,
   "id": "2fe5ce1e",
   "metadata": {},
   "outputs": [],
   "source": [
    "import numpy as np\n",
    "import pandas as pd\n",
    "\n",
    "import matplotlib.pyplot as plt\n",
    "import seaborn as sns\n",
    "import random"
   ]
  },
  {
   "cell_type": "code",
   "execution_count": 2,
   "id": "7daaf2be",
   "metadata": {},
   "outputs": [
    {
     "data": {
      "image/png": "[encoded data removed]",
      "text/plain": [
       "<Figure size 576x432 with 1 Axes>"
      ]
     },
     "metadata": {
      "needs_background": "light"
     },
     "output_type": "display_data"
    }
   ],
   "source": [
    "from sklearn import datasets\n",
    "X, y = datasets.make_regression(n_samples=100, n_features=1, noise=20, random_state=4, bias=50)\n",
    "\n",
    "plt.figure(figsize=(8,6))\n",
    "plt.scatter(X[:,0],y, color='b', marker='o', s=30)\n",
    "plt.xlabel('$x$')\n",
    "plt.ylabel('$y$')\n",
    "plt.show()"
   ]
  },
  {
   "cell_type": "code",
   "execution_count": null,
   "id": "d9f12b9f",
   "metadata": {},
   "outputs": [],
   "source": []
  },
  {
   "cell_type": "markdown",
   "id": "bc590ed9",
   "metadata": {},
   "source": [
    "### ¿Cómo ajustamos una curva a esto?\n",
    "\n",
    "Consideramos entonces ajustes de la forma \n",
    "\n",
    "$$\\hat{f}(x) = \\beta_0+\\beta_1 x = \\left[1 \\quad x\\right]\\left[\\begin{array}{c} \\beta_0 \\\\ \\beta_1 \\end{array}\\right]=\\left[1 \\quad x\\right]\\boldsymbol{\\beta}$$ (lineas rectas).\n",
    "\n",
    "\n",
    "Para decir '*mejor*', tenemos que definir algún sentido en que una recta se ajuste *mejor* que otra.\n",
    "\n",
    "> El objetivo es seleccionar los coeficientes $\\boldsymbol{\\beta}=\\left[\\beta_0 \\quad \\beta_1 \\right]^T$, de forma que la función evaluada en los puntos $x_i$ ($\\hat{f}(x_i)$) aproxime los valores correspondientes $y_i$.\n",
    "\n",
    "> El objetivo es encontrar los $\\boldsymbol{\\beta}=\\left[\\beta_0 \\quad \\beta_1 \\right]^T$ que minimiza El error cuadrático medio (MSE):\n",
    "$$\\frac{1}{2n}\\sum_{i=1}^{n}(y_i-\\hat{f}(x_i))^2=\\frac{1}{2n}\\sum_{i=1}^{n}(y_i-(\\beta_0+ \\beta_1x_i))^2=\\frac{1}{2n}\\sum_{i=1}^{n}(y_i-\\left[1 \\quad x_i\\right]\\boldsymbol{\\beta})^2=\\frac{1}{2n}\\left|\\left|\\boldsymbol{y}-\\boldsymbol{X}\\boldsymbol{\\beta}\\right|\\right|^2,$$\n",
    "\n",
    "donde $\\boldsymbol{y}=\\left[y_1\\quad\\dots\\quad y_n\\right]^T$, y $\\boldsymbol{X}=\\left[\\begin{array}{ccc}1 & x_1\\\\ \\vdots & \\vdots \\\\ 1 & x_n\\end{array}\\right].$ \n",
    "\n",
    "## Gradiente Descendente\n",
    "\n",
    "Partiendo del **MSE**:\n",
    "\n",
    "$$ J(\\beta) = \\frac{1}{2m}\\sum_{i=1}^m (\\hat{y}(x_i) - y_i)^2$$  \n",
    "\n",
    "$\\beta = [\\beta_0, \\beta_1]$\n",
    "\n",
    "\n",
    "El algoritmo de gradiente descendente es un método de optimización local en el que, en cada paso, empleamos el gradiente negativo como dirección de descenso. \n",
    "\n",
    "$$\\boldsymbol{\\beta}_{k} = \\boldsymbol{\\beta}_{k-1}-\\alpha \\nabla J(\\boldsymbol{\\beta}_{k-1})$$\n",
    "\n",
    "Para una regresión lineal tendríamos que las ecuaciones del algoritmo de gradiente descendente son:\n",
    "\n",
    "\n",
    "$$ \\nabla J(\\boldsymbol{\\beta}) = \\left[\\begin{array}{c} \\frac{1}{m} \\sum_{i=1}^m (\\hat{y}(x_i) - y_i) \\\\ \n",
    "\\frac{1}{m} \\sum_{i=1}^m (\\hat{y}(x_i) - y_i)x_i\\end{array}\\right].$$\n",
    "\n",
    "\n",
    "$$ \\beta_0 = \\beta_0 - \\alpha \\frac{1}{m} \\sum_{i=1}^m (\\hat{y}(x_i) - y_i)$$\n",
    "\n",
    "$$ \\beta_1 = \\beta_1 - \\alpha \\frac{1}{m} \\sum_{i=1}^m (\\hat{y}(x_i) - y_i)x_i$$\n",
    "\n",
    "<img alt=\"Datos categóricos con Python\" title=\"GradientDescendt\" src=\"https://cdn-images-1.medium.com/max/1600/0*fU8XFt-NCMZGAWND.\" high=300px, width=300px>\n",
    "\n"
   ]
  },
  {
   "cell_type": "markdown",
   "id": "c707ba97",
   "metadata": {},
   "source": [
    "## Linear Regression Class"
   ]
  },
  {
   "cell_type": "code",
   "execution_count": 3,
   "id": "bf626df2",
   "metadata": {},
   "outputs": [],
   "source": [
    "class LinearRegression:\n",
    "    def __init__(self, lr=0.01, n_iters=1000):\n",
    "        self.lr = lr\n",
    "        self.n_iters = n_iters\n",
    "        self.weights = None\n",
    "        self.bias = None\n",
    "        self.mse_hist= None\n",
    "    \n",
    "    def fit(self, X, y):\n",
    "        self.mse_hist = []\n",
    "        n_samples, n_features = X.shape\n",
    "        self.weights = np.random.randn(n_features,1)/np.sqrt(n_samples)\n",
    "        self.bias = 0\n",
    "        \n",
    "        #Algoritmo de gradiente descendente\n",
    "        for k in range(self.n_iters):\n",
    "            y_pred = np.dot(X,self.weights) + self.bias # yhat = X*beta\n",
    "            dw = (1/n_samples)*np.dot(X.T, (y_pred - y)) #derivada parcial de betas (beta1,beta2,..,betan)\n",
    "            db = (1/n_samples)*np.sum(y_pred - y) #derivada parcial del bias (beta_0)\n",
    "            \n",
    "            self.weights = self.weights - self.lr*dw\n",
    "            self.bias = self.bias - self.lr*db\n",
    "            \n",
    "            self.mse_hist.append(self.mse(X,y))\n",
    "            \n",
    "    def mse(self,X,y):\n",
    "        return np.mean((y-self.predict(X))**2)\n",
    "    \n",
    "    def predict(self,X):\n",
    "        y_pred = np.dot(X,self.weights) + self.bias # yhat = X*beta\n",
    "        return y_pred\n",
    "    \n",
    "    def get_coef(self):\n",
    "        return self.weights\n",
    "    \n",
    "    def get_bias(self):\n",
    "        return self.bias\n",
    "    \n",
    "    def get_mse_hist(self):\n",
    "        return self.mse_hist"
   ]
  },
  {
   "cell_type": "code",
   "execution_count": 4,
   "id": "c4aa0b68",
   "metadata": {},
   "outputs": [
    {
     "data": {
      "text/plain": [
       "((100, 1), (100,))"
      ]
     },
     "execution_count": 4,
     "metadata": {},
     "output_type": "execute_result"
    }
   ],
   "source": [
    "X.shape, y.shape"
   ]
  },
  {
   "cell_type": "markdown",
   "id": "797fb2b0",
   "metadata": {},
   "source": [
    "## Train-Test-Split"
   ]
  },
  {
   "cell_type": "code",
   "execution_count": 5,
   "id": "dbec7601",
   "metadata": {},
   "outputs": [],
   "source": [
    "import random"
   ]
  },
  {
   "cell_type": "code",
   "execution_count": 6,
   "id": "b873c213",
   "metadata": {},
   "outputs": [],
   "source": [
    "def train_test_split(X_df, y_df, test_size):\n",
    "    if isinstance(test_size, float):\n",
    "        test_size=round(test_size*len(X_df))\n",
    "    \n",
    "    ind = X_df.index.to_list()\n",
    "    test_indices = random.sample(population=ind, k = test_size)\n",
    "    \n",
    "    X_test_df = X_df.loc[test_indices]\n",
    "    X_train_df = X_df.drop(test_indices)\n",
    "    \n",
    "    y_test_df = y_df.loc[test_indices]\n",
    "    y_train_df = y_df.drop(test_indices)\n",
    "    \n",
    "    return X_train_df, X_test_df, y_train_df, y_test_df\n"
   ]
  },
  {
   "cell_type": "code",
   "execution_count": 7,
   "id": "7e5af310",
   "metadata": {},
   "outputs": [],
   "source": [
    "random.seed(0)\n",
    "X_train, X_test, y_train, y_test = train_test_split(pd.DataFrame(X), pd.DataFrame(y), 0.2)"
   ]
  },
  {
   "cell_type": "code",
   "execution_count": 8,
   "id": "06da3686",
   "metadata": {},
   "outputs": [
    {
     "data": {
      "text/plain": [
       "((80, 1), (80, 1))"
      ]
     },
     "execution_count": 8,
     "metadata": {},
     "output_type": "execute_result"
    }
   ],
   "source": [
    "X_train.shape, y_train.shape"
   ]
  },
  {
   "cell_type": "code",
   "execution_count": 9,
   "id": "c7d373d2",
   "metadata": {},
   "outputs": [
    {
     "data": {
      "text/plain": [
       "((20, 1), (20, 1))"
      ]
     },
     "execution_count": 9,
     "metadata": {},
     "output_type": "execute_result"
    }
   ],
   "source": [
    "X_test.shape, y_test.shape"
   ]
  },
  {
   "cell_type": "code",
   "execution_count": 10,
   "id": "60dabac2",
   "metadata": {},
   "outputs": [],
   "source": [
    "#Entrenar un modelo de regresion Lineal utilizando nuestra librería\n",
    "modelo_reg = LinearRegression()\n"
   ]
  },
  {
   "cell_type": "code",
   "execution_count": 11,
   "id": "37cdc23d",
   "metadata": {},
   "outputs": [],
   "source": [
    "#Entrenar el modelo\n",
    "modelo_reg.fit(X_train.values, y_train.values)"
   ]
  },
  {
   "cell_type": "code",
   "execution_count": 12,
   "id": "840eb3cb",
   "metadata": {},
   "outputs": [
    {
     "data": {
      "text/plain": [
       "array([[75.41270973]])"
      ]
     },
     "execution_count": 12,
     "metadata": {},
     "output_type": "execute_result"
    }
   ],
   "source": [
    "modelo_reg.get_coef() #Beta1"
   ]
  },
  {
   "cell_type": "code",
   "execution_count": 13,
   "id": "7e2c7452",
   "metadata": {},
   "outputs": [
    {
     "data": {
      "text/plain": [
       "49.239551398772896"
      ]
     },
     "execution_count": 13,
     "metadata": {},
     "output_type": "execute_result"
    }
   ],
   "source": [
    "modelo_reg.get_bias() #beta0"
   ]
  },
  {
   "cell_type": "markdown",
   "id": "2492bd61",
   "metadata": {},
   "source": [
    "$$ \\hat{y}(x) = 49.036 + 74.58*x$$"
   ]
  },
  {
   "cell_type": "code",
   "execution_count": 14,
   "id": "8765573b",
   "metadata": {},
   "outputs": [],
   "source": [
    "y_pred_train = modelo_reg.predict(X_train.values)\n"
   ]
  },
  {
   "cell_type": "code",
   "execution_count": 19,
   "id": "bfe0b59c",
   "metadata": {},
   "outputs": [
    {
     "data": {
      "image/png": "[encoded data removed]",
      "text/plain": [
       "<Figure size 576x432 with 1 Axes>"
      ]
     },
     "metadata": {
      "needs_background": "light"
     },
     "output_type": "display_data"
    }
   ],
   "source": [
    "plt.figure(figsize=(8,6))\n",
    "plt.scatter(X_train.values[:,0], y_train.values, color = 'b', marker='o', s=30)\n",
    "plt.scatter(X_test.values[:,0], y_test.values, color = 'k', marker='o', s=30)\n",
    "plt.plot(X_train.values[:,0],y_pred_train, color = 'r')\n",
    "plt.xlabel('$x$')\n",
    "plt.ylabel('$y$')\n",
    "plt.show()"
   ]
  },
  {
   "cell_type": "code",
   "execution_count": 21,
   "id": "72759cb5",
   "metadata": {},
   "outputs": [
    {
     "data": {
      "text/plain": [
       "[7326.305615792296,\n",
       " 7200.780479919369,\n",
       " 7077.5201536333025,\n",
       " 6956.483314865274,\n",
       " 6837.629403652492,\n",
       " 6720.918607938622,\n",
       " 6606.311849641303,\n",
       " 6493.770770981668,\n",
       " 6383.257721070902,\n",
       " 6274.7357427489715,\n",
       " 6168.168559670723,\n",
       " 6063.520563634693,\n",
       " 5960.756802149983,\n",
       " 5859.842966236751,\n",
       " 5760.745378455817,\n",
       " 5663.430981163108,\n",
       " 5567.867324984637,\n",
       " 5474.022557507861,\n",
       " 5381.865412185328,\n",
       " 5291.365197446549,\n",
       " 5202.491786014217,\n",
       " 5115.215604420851,\n",
       " 5029.507622722094,\n",
       " 4945.339344402946,\n",
       " 4862.682796473271,\n",
       " 4781.510519749005,\n",
       " 4701.795559315545,\n",
       " 4623.511455169884,\n",
       " 4546.632233038099,\n",
       " 4471.132395364885,\n",
       " 4396.986912471889,\n",
       " 4324.171213881623,\n",
       " 4252.661179803873,\n",
       " 4182.433132781499,\n",
       " 4113.463829492619,\n",
       " 4045.7304527062397,\n",
       " 3979.210603388418,\n",
       " 3913.882292956116,\n",
       " 3849.7239356759746,\n",
       " 3786.714341205242,\n",
       " 3724.8327072721986,\n",
       " 3664.058612493437,\n",
       " 3604.372009325416,\n",
       " 3545.753217147746,\n",
       " 3488.1829154757374,\n",
       " 3431.6421372997675,\n",
       " 3376.1122625490634,\n",
       " 3321.575011677573,\n",
       " 3268.012439369612,\n",
       " 3215.4069283630292,\n",
       " 3163.7411833876854,\n",
       " 3112.998225217056,\n",
       " 3063.161384830845,\n",
       " 3014.2142976865034,\n",
       " 2966.1408980976166,\n",
       " 2918.9254137171306,\n",
       " 2872.5523601234595,\n",
       " 2827.0065355075303,\n",
       " 2782.2730154588658,\n",
       " 2738.337147848839,\n",
       " 2695.1845478092787,\n",
       " 2652.801092804627,\n",
       " 2611.1729177958905,\n",
       " 2570.2864104946575,\n",
       " 2530.128206705488,\n",
       " 2490.685185755025,\n",
       " 2451.944466006175,\n",
       " 2413.8934004557846,\n",
       " 2376.5195724142295,\n",
       " 2339.8107912653745,\n",
       " 2303.7550883054055,\n",
       " 2268.3407126590514,\n",
       " 2233.55612727173,\n",
       " 2199.390004976203,\n",
       " 2165.8312246323503,\n",
       " 2132.868867338665,\n",
       " 2100.4922127141517,\n",
       " 2068.6907352492904,\n",
       " 2037.4541007247724,\n",
       " 2006.7721626967464,\n",
       " 1976.634959047315,\n",
       " 1947.032708599067,\n",
       " 1917.9558077924435,\n",
       " 1889.3948274247548,\n",
       " 1861.3405094497066,\n",
       " 1833.7837638362791,\n",
       " 1806.715665485876,\n",
       " 1780.1274512066211,\n",
       " 1754.0105167437637,\n",
       " 1728.3564138651134,\n",
       " 1703.156847500497,\n",
       " 1678.4036729342101,\n",
       " 1654.0888930494839,\n",
       " 1630.2046556239866,\n",
       " 1606.7432506754055,\n",
       " 1583.6971078561778,\n",
       " 1561.058793896445,\n",
       " 1538.8210100943331,\n",
       " 1516.9765898526746,\n",
       " 1495.5184962612998,\n",
       " 1474.43981972405,\n",
       " 1453.7337756296783,\n",
       " 1433.3937020658116,\n",
       " 1413.413057575177,\n",
       " 1393.7854189532977,\n",
       " 1374.5044790868892,\n",
       " 1355.5640448321906,\n",
       " 1336.9580349324913,\n",
       " 1318.6804779741178,\n",
       " 1300.7255103801624,\n",
       " 1283.0873744412559,\n",
       " 1265.760416382685,\n",
       " 1248.739084467183,\n",
       " 1232.0179271327265,\n",
       " 1215.591591164685,\n",
       " 1199.454819901685,\n",
       " 1183.6024514745573,\n",
       " 1168.0294170777565,\n",
       " 1152.7307392726402,\n",
       " 1137.7015303220219,\n",
       " 1122.9369905554133,\n",
       " 1108.4324067643784,\n",
       " 1094.1831506274507,\n",
       " 1080.1846771640526,\n",
       " 1066.4325232168817,\n",
       " 1052.9223059622384,\n",
       " 1039.649721447764,\n",
       " 1026.6105431570945,\n",
       " 1013.8006206009159,\n",
       " 1001.2158779339376,\n",
       " 988.8523125973028,\n",
       " 976.7059939859597,\n",
       " 964.7730621405295,\n",
       " 953.0497264632202,\n",
       " 941.5322644573371,\n",
       " 930.2170204899496,\n",
       " 919.1004045772901,\n",
       " 908.1788911924568,\n",
       " 897.4490180950124,\n",
       " 886.9073851820649,\n",
       " 876.5506533604428,\n",
       " 866.3755434395605,\n",
       " 856.3788350446023,\n",
       " 846.557365549638,\n",
       " 836.9080290303107,\n",
       " 827.4277752357244,\n",
       " 818.1136085791808,\n",
       " 808.962587147418,\n",
       " 799.9718217280023,\n",
       " 791.1384748545412,\n",
       " 782.4597598693879,\n",
       " 773.932940003511,\n",
       " 765.5553274732126,\n",
       " 757.3242825933846,\n",
       " 749.2372129069943,\n",
       " 741.2915723305016,\n",
       " 733.4848603149119,\n",
       " 725.8146210221764,\n",
       " 718.2784425166537,\n",
       " 710.8739559713591,\n",
       " 703.5988348887207,\n",
       " 696.4507943355844,\n",
       " 689.4275901921937,\n",
       " 682.5270184148942,\n",
       " 675.7469143123069,\n",
       " 669.0851518347193,\n",
       " 662.5396428764532,\n",
       " 656.1083365909695,\n",
       " 649.7892187184731,\n",
       " 643.5803109257874,\n",
       " 637.4796701582766,\n",
       " 631.4853880035851,\n",
       " 625.5955900669849,\n",
       " 619.8084353581119,\n",
       " 614.1221156888812,\n",
       " 608.534855082378,\n",
       " 603.0449091925202,\n",
       " 597.6505647342932,\n",
       " 592.3501389243656,\n",
       " 587.1419789318912,\n",
       " 582.0244613393104,\n",
       " 576.995991612969,\n",
       " 572.0550035833719,\n",
       " 567.1999589348944,\n",
       " 562.429346704778,\n",
       " 557.7416827912393,\n",
       " 553.1355094705243,\n",
       " 548.6093949227449,\n",
       " 544.1619327663333,\n",
       " 539.7917416009607,\n",
       " 535.4974645587582,\n",
       " 531.2777688636949,\n",
       " 527.1313453989558,\n",
       " 523.05690828218,\n",
       " 519.0531944484071,\n",
       " 515.1189632405986,\n",
       " 511.2529960075875,\n",
       " 507.454095709326,\n",
       " 503.7210865292924,\n",
       " 500.0528134939303,\n",
       " 496.44814209898743,\n",
       " 492.9059579426307,\n",
       " 489.4251663652109,\n",
       " 486.00469209555547,\n",
       " 482.6434789036721,\n",
       " 479.3404892597417,\n",
       " 476.09470399928995,\n",
       " 472.90512199442037,\n",
       " 469.7707598310009,\n",
       " 466.69065149169217,\n",
       " 463.66384804471375,\n",
       " 460.68941733824056,\n",
       " 457.76644370032926,\n",
       " 454.8940276442685,\n",
       " 452.07128557926137,\n",
       " 449.297349526335,\n",
       " 446.57136683938705,\n",
       " 443.89249993127197,\n",
       " 441.2599260048367,\n",
       " 438.6728367888157,\n",
       " 436.1304382784944,\n",
       " 433.63195048105615,\n",
       " 431.176607165526,\n",
       " 428.7636556172277,\n",
       " 426.3923563966725,\n",
       " 424.06198310279603,\n",
       " 421.7718221404681,\n",
       " 419.52117249219316,\n",
       " 417.3093454939286,\n",
       " 415.13566461494395,\n",
       " 412.999465241647,\n",
       " 410.90009446530564,\n",
       " 408.8369108735945,\n",
       " 406.809284345895,\n",
       " 404.8165958522827,\n",
       " 402.8582372561331,\n",
       " 400.9336111202814,\n",
       " 399.0421305166693,\n",
       " 397.1832188394189,\n",
       " 395.35630962126714,\n",
       " 393.5608463533037,\n",
       " 391.7962823079488,\n",
       " 390.0620803651148,\n",
       " 388.35771284149143,\n",
       " 386.68266132289966,\n",
       " 385.0364164996573,\n",
       " 383.41847800490194,\n",
       " 381.8283542558175,\n",
       " 380.2655622977125,\n",
       " 378.7296276508962,\n",
       " 377.220084160304,\n",
       " 375.73647384782083,\n",
       " 374.2783467672545,\n",
       " 372.8452608619097,\n",
       " 371.43678182471695,\n",
       " 370.0524829608686,\n",
       " 368.69194505291887,\n",
       " 367.3547562282988,\n",
       " 366.0405118292082,\n",
       " 364.74881428483684,\n",
       " 363.47927298587473,\n",
       " 362.2315041612691,\n",
       " 361.0051307571886,\n",
       " 359.7997823181542,\n",
       " 358.6150948702965,\n",
       " 357.4507108067028,\n",
       " 356.30627877481476,\n",
       " 355.1814535658402,\n",
       " 354.07589600614256,\n",
       " 352.9892728505706,\n",
       " 351.9212566776981,\n",
       " 350.8715257869318,\n",
       " 349.83976409746026,\n",
       " 348.8256610490073,\n",
       " 347.8289115043568,\n",
       " 346.8492156536202,\n",
       " 345.88627892021066,\n",
       " 344.93981186849703,\n",
       " 344.00953011310474,\n",
       " 343.0951542298362,\n",
       " 342.1964096681782,\n",
       " 341.3130266653715,\n",
       " 340.4447401620114,\n",
       " 339.5912897191532,\n",
       " 338.75241943689514,\n",
       " 337.92787787441216,\n",
       " 337.1174179714136,\n",
       " 336.3207969710012,\n",
       " 335.53777634389945,\n",
       " 334.76812171403606,\n",
       " 334.01160278544614,\n",
       " 333.26799327047837,\n",
       " 332.53707081927723,\n",
       " 331.81861695052146,\n",
       " 331.1124169833925,\n",
       " 330.41825997075495,\n",
       " 329.735938633522,\n",
       " 329.06524929619053,\n",
       " 328.4059918235201,\n",
       " 327.7579695583371,\n",
       " 327.12098926044445,\n",
       " 326.4948610466159,\n",
       " 325.8793983316556,\n",
       " 325.2744177705043,\n",
       " 324.67973920137314,\n",
       " 324.0951855898869,\n",
       " 323.5205829742172,\n",
       " 322.9557604111903,\n",
       " 322.4005499233498,\n",
       " 321.85478644695803,\n",
       " 321.31830778092,\n",
       " 320.7909545366113,\n",
       " 320.27257008859647,\n",
       " 319.76300052621957,\n",
       " 319.2620946060525,\n",
       " 318.7697037051854,\n",
       " 318.28568177534436,\n",
       " 317.80988529782076,\n",
       " 317.342173239199,\n",
       " 316.882407007867,\n",
       " 316.43045041129653,\n",
       " 315.98616961407924,\n",
       " 315.5494330967037,\n",
       " 315.12011161506337,\n",
       " 314.69807816067777,\n",
       " 314.2832079216193,\n",
       " 313.87537824412846,\n",
       " 313.474468594908,\n",
       " 313.080360524083,\n",
       " 312.69293762881534,\n",
       " 312.31208551755986,\n",
       " 311.93769177495204,\n",
       " 311.5696459273152,\n",
       " 311.20783940877607,\n",
       " 310.85216552797885,\n",
       " 310.50251943538524,\n",
       " 310.1587980911523,\n",
       " 309.8209002335754,\n",
       " 309.4887263480888,\n",
       " 309.16217863681135,\n",
       " 308.8411609886295,\n",
       " 308.52557894980663,\n",
       " 308.21533969511137,\n",
       " 307.9103519994525,\n",
       " 307.6105262100149,\n",
       " 307.31577421888494,\n",
       " 307.0260094361582,\n",
       " 306.7411467635196,\n",
       " 306.46110256828933,\n",
       " 306.18579465792436,\n",
       " 305.915142254969,\n",
       " 305.6490659724453,\n",
       " 305.38748778967647,\n",
       " 305.13033102853484,\n",
       " 304.87752033010736,\n",
       " 304.62898163177096,\n",
       " 304.38464214467047,\n",
       " 304.14443033159205,\n",
       " 303.9082758852254,\n",
       " 303.67610970680687,\n",
       " 303.4478638851382,\n",
       " 303.22347167597235,\n",
       " 303.0028674817621,\n",
       " 302.78598683176295,\n",
       " 302.5727663624856,\n",
       " 302.36314379849046,\n",
       " 302.15705793351935,\n",
       " 301.95444861195756,\n",
       " 301.75525671062104,\n",
       " 301.5594241208622,\n",
       " 301.3668937309893,\n",
       " 301.17760940899416,\n",
       " 300.99151598558143,\n",
       " 300.8085592374957,\n",
       " 300.62868587113974,\n",
       " 300.45184350648003,\n",
       " 300.27798066123347,\n",
       " 300.10704673533013,\n",
       " 299.9389919956493,\n",
       " 299.7737675610206,\n",
       " 299.61132538748853,\n",
       " 299.45161825383383,\n",
       " 299.2945997473483,\n",
       " 299.1402242498579,\n",
       " 298.98844692398995,\n",
       " 298.83922369968036,\n",
       " 298.6925112609161,\n",
       " 298.5482670327095,\n",
       " 298.4064491682995,\n",
       " 298.26701653657693,\n",
       " 298.12992870972784,\n",
       " 297.9951459510943,\n",
       " 297.8626292032445,\n",
       " 297.7323400762534,\n",
       " 297.6042408361857,\n",
       " 297.4782943937805,\n",
       " 297.35446429333314,\n",
       " 297.2327147017702,\n",
       " 297.1130103979156,\n",
       " 296.9953167619427,\n",
       " 296.879599765011,\n",
       " 296.7658259590827,\n",
       " 296.6539624669164,\n",
       " 296.543976972236,\n",
       " 296.4358377100686,\n",
       " 296.3295134572528,\n",
       " 296.22497352311046,\n",
       " 296.12218774028173,\n",
       " 296.0211264557181,\n",
       " 295.9217605218336,\n",
       " 295.82406128780883,\n",
       " 295.7280005910462,\n",
       " 295.6335507487738,\n",
       " 295.540684549795,\n",
       " 295.44937524638124,\n",
       " 295.35959654630614,\n",
       " 295.2713226050168,\n",
       " 295.18452801794234,\n",
       " 295.09918781293464,\n",
       " 295.01527744284124,\n",
       " 294.93277277820636,\n",
       " 294.8516501000989,\n",
       " 294.77188609306506,\n",
       " 294.6934578382021,\n",
       " 294.61634280635343,\n",
       " 294.54051885142087,\n",
       " 294.46596420379285,\n",
       " 294.39265746388685,\n",
       " 294.32057759580323,\n",
       " 294.2497039210893,\n",
       " 294.18001611261104,\n",
       " 294.11149418853154,\n",
       " 294.0441185063925,\n",
       " 293.9778697572998,\n",
       " 293.91272896020774,\n",
       " 293.8486774563042,\n",
       " 293.78569690349076,\n",
       " 293.72376927096036,\n",
       " 293.6628768338675,\n",
       " 293.60300216809014,\n",
       " 293.5441281450838,\n",
       " 293.4862379268229,\n",
       " 293.4293149608303,\n",
       " 293.37334297529287,\n",
       " 293.3183059742605,\n",
       " 293.26418823292937,\n",
       " 293.2109742930055,\n",
       " 293.1586489581487,\n",
       " 293.10719728949516,\n",
       " 293.0566046012577,\n",
       " 293.00685645640107,\n",
       " 292.9579386623926,\n",
       " 292.9098372670258,\n",
       " 292.8625385543161,\n",
       " 292.8160290404668,\n",
       " 292.7702954699059,\n",
       " 292.72532481138944,\n",
       " 292.6811042541734,\n",
       " 292.63762120425093,\n",
       " 292.5948632806544,\n",
       " 292.55281831182145,\n",
       " 292.51147433202306,\n",
       " 292.47081957785355,\n",
       " 292.43084248478107,\n",
       " 292.3915316837571,\n",
       " 292.35287599788427,\n",
       " 292.31486443914207,\n",
       " 292.2774862051682,\n",
       " 292.24073067609544,\n",
       " 292.20458741144324,\n",
       " 292.1690461470627,\n",
       " 292.13409679213345,\n",
       " 292.0997294262127,\n",
       " 292.06593429633494,\n",
       " 292.03270181416144,\n",
       " 292.0000225531784,\n",
       " 291.96788724594387,\n",
       " 291.936286781381,\n",
       " 291.90521220211883,\n",
       " 291.87465470187783,\n",
       " 291.84460562290053,\n",
       " 291.815056453427,\n",
       " 291.7859988252123,\n",
       " 291.75742451108755,\n",
       " 291.7293254225623,\n",
       " 291.7016936074685,\n",
       " 291.6745212476445,\n",
       " 291.64780065665826,\n",
       " 291.62152427757087,\n",
       " 291.5956846807371,\n",
       " 291.57027456164457,\n",
       " 291.54528673878906,\n",
       " 291.52071415158736,\n",
       " 291.49654985832404,\n",
       " 291.47278703413616,\n",
       " 291.4494189690291,\n",
       " 291.4264390659294,\n",
       " 291.4038408387686,\n",
       " 291.3816179106015,\n",
       " 291.35976401175583,\n",
       " 291.33827297801355,\n",
       " 291.31713874882337,\n",
       " 291.29635536554406,\n",
       " 291.2759169697174,\n",
       " 291.25581780137094,\n",
       " 291.23605219734947,\n",
       " 291.2166145896755,\n",
       " 291.19749950393714,\n",
       " 291.17870155770396,\n",
       " 291.1602154589697,\n",
       " 291.1420360046215,\n",
       " 291.12415807893575,\n",
       " 291.1065766520987,\n",
       " 291.08928677875326,\n",
       " 291.0722835965702,\n",
       " 291.0555623248435,\n",
       " 291.03911826310997,\n",
       " 291.0229467897925,\n",
       " 291.00704336086596,\n",
       " 290.9914035085465,\n",
       " 290.97602284000243,\n",
       " 290.96089703608806,\n",
       " 290.9460218500979,\n",
       " 290.93139310654334,\n",
       " 290.9170066999492,\n",
       " 290.9028585936713,\n",
       " 290.88894481873365,\n",
       " 290.8752614726865,\n",
       " 290.86180471848263,\n",
       " 290.84857078337336,\n",
       " 290.8355559578232,\n",
       " 290.8227565944433,\n",
       " 290.8101691069425,\n",
       " 290.79778996909664,\n",
       " 290.78561571373507,\n",
       " 290.77364293174503,\n",
       " 290.7618682710922,\n",
       " 290.7502884358581,\n",
       " 290.73890018529426,\n",
       " 290.72770033289197,\n",
       " 290.7166857454681,\n",
       " 290.7058533422666,\n",
       " 290.6952000940749,\n",
       " 290.68472302235523,\n",
       " 290.6744191983914,\n",
       " 290.66428574244947,\n",
       " 290.65431982295246,\n",
       " 290.6445186556699,\n",
       " 290.63487950292057,\n",
       " 290.6253996727884,\n",
       " 290.61607651835277,\n",
       " 290.60690743693095,\n",
       " 290.5978898693333,\n",
       " 290.5890212991322,\n",
       " 290.58029925194194,\n",
       " 290.5717212947121,\n",
       " 290.563285035032,\n",
       " 290.5549881204472,\n",
       " 290.54682823778796,\n",
       " 290.5388031125085,\n",
       " 290.53091050803783,\n",
       " 290.52314822514165,\n",
       " 290.5155141012944,\n",
       " 290.508006010063,\n",
       " 290.5006218604999,\n",
       " 290.49335959654763,\n",
       " 290.486217196452,\n",
       " 290.47919267218646,\n",
       " 290.4722840688855,\n",
       " 290.46548946428817,\n",
       " 290.4588069681903,\n",
       " 290.4522347219066,\n",
       " 290.44577089774185,\n",
       " 290.4394136984703,\n",
       " 290.4331613568248,\n",
       " 290.4270121349942,\n",
       " 290.4209643241289,\n",
       " 290.41501624385535,\n",
       " 290.4091662417984,\n",
       " 290.4034126931117,\n",
       " 290.3977540000163,\n",
       " 290.3921885913465,\n",
       " 290.3867149221043,\n",
       " 290.38133147302017,\n",
       " 290.3760367501225,\n",
       " 290.3708292843132,\n",
       " 290.3657076309513,\n",
       " 290.3606703694428,\n",
       " 290.35571610283847,\n",
       " 290.35084345743746,\n",
       " 290.3460510823978,\n",
       " 290.34133764935416,\n",
       " 290.33670185204113,\n",
       " 290.33214240592343,\n",
       " 290.32765804783213,\n",
       " 290.3232475356071,\n",
       " 290.3189096477453,\n",
       " 290.3146431830556,\n",
       " 290.3104469603182,\n",
       " 290.3063198179512,\n",
       " 290.3022606136821,\n",
       " 290.2982682242243,\n",
       " 290.2943415449602,\n",
       " 290.29047948962886,\n",
       " 290.28668099001897,\n",
       " 290.28294499566744,\n",
       " 290.27927047356224,\n",
       " 290.2756564078515,\n",
       " 290.27210179955586,\n",
       " 290.2686056662875,\n",
       " 290.2651670419721,\n",
       " 290.261784976577,\n",
       " 290.2584585358428,\n",
       " 290.25518680102016,\n",
       " 290.2519688686107,\n",
       " 290.2488038501125,\n",
       " 290.2456908717696,\n",
       " 290.24262907432586,\n",
       " 290.23961761278315,\n",
       " 290.23665565616295,\n",
       " 290.2337423872729,\n",
       " 290.23087700247635,\n",
       " 290.2280587114666,\n",
       " 290.2252867370441,\n",
       " 290.2225603148981,\n",
       " 290.21987869339193,\n",
       " 290.217241133351,\n",
       " 290.2146469078555,\n",
       " 290.212095302036,\n",
       " 290.20958561287244,\n",
       " 290.20711714899664,\n",
       " 290.2046892304984,\n",
       " 290.2023011887339,\n",
       " 290.1999523661386,\n",
       " 290.19764211604246,\n",
       " 290.19536980248836,\n",
       " 290.1931348000535,\n",
       " 290.1909364936744,\n",
       " 290.18877427847383,\n",
       " 290.18664755959173,\n",
       " 290.1845557520178,\n",
       " 290.1824982804281,\n",
       " 290.1804745790234,\n",
       " 290.178484091371,\n",
       " 290.17652627024836,\n",
       " 290.17460057749025,\n",
       " 290.1727064838379,\n",
       " 290.1708434687906,\n",
       " 290.16901102046063,\n",
       " 290.16720863542895,\n",
       " 290.16543581860543,\n",
       " 290.1636920830896,\n",
       " 290.1619769500347,\n",
       " 290.1602899485139,\n",
       " 290.1586306153883,\n",
       " 290.1569984951777,\n",
       " 290.1553931399334,\n",
       " 290.1538141091126,\n",
       " 290.1522609694558,\n",
       " 290.1507332948655,\n",
       " 290.14923066628705,\n",
       " 290.1477526715921,\n",
       " 290.1462989054631,\n",
       " 290.14486896928037,\n",
       " 290.14346247101076,\n",
       " 290.1420790250985,\n",
       " 290.1407182523574,\n",
       " 290.139379779865,\n",
       " 290.13806324085897,\n",
       " 290.13676827463433,\n",
       " 290.1354945264434,\n",
       " 290.13424164739655,\n",
       " 290.13300929436525,\n",
       " 290.1317971298863,\n",
       " 290.1306048220678,\n",
       " 290.1294320444971,\n",
       " 290.12827847614903,\n",
       " 290.1271438012977,\n",
       " 290.1260277094276,\n",
       " 290.1249298951476,\n",
       " 290.12385005810637,\n",
       " 290.1227879029078,\n",
       " 290.12174313903006,\n",
       " 290.1207154807437,\n",
       " 290.11970464703285,\n",
       " 290.1187103615172,\n",
       " 290.1177323523742,\n",
       " 290.116770352265,\n",
       " 290.11582409825917,\n",
       " 290.1148933317615,\n",
       " 290.1139777984409,\n",
       " 290.11307724815936,\n",
       " 290.1121914349025,\n",
       " 290.11132011671134,\n",
       " 290.110463055615,\n",
       " 290.1096200175651,\n",
       " 290.10879077236996,\n",
       " 290.10797509363175,\n",
       " 290.1071727586829,\n",
       " 290.1063835485249,\n",
       " 290.1056072477669,\n",
       " 290.10484364456704,\n",
       " 290.10409253057253,\n",
       " 290.1033537008628,\n",
       " 290.1026269538922,\n",
       " 290.1019120914345,\n",
       " 290.1012089185279,\n",
       " 290.10051724342065,\n",
       " 290.09983687751867,\n",
       " 290.0991676353325,\n",
       " 290.09850933442664,\n",
       " 290.0978617953689,\n",
       " 290.0972248416803,\n",
       " 290.0965982997868,\n",
       " 290.0959819989711,\n",
       " 290.0953757713252,\n",
       " 290.0947794517042,\n",
       " 290.0941928776805,\n",
       " 290.09361588949923,\n",
       " 290.0930483300335,\n",
       " 290.09249004474145,\n",
       " 290.09194088162343,\n",
       " 290.09140069117984,\n",
       " 290.09086932637,\n",
       " 290.09034664257155,\n",
       " 290.0898324975404,\n",
       " 290.08932675137146,\n",
       " 290.08882926646004,\n",
       " 290.08833990746405,\n",
       " 290.0878585412662,\n",
       " 290.0873850369379,\n",
       " 290.0869192657024,\n",
       " 290.0864611008999,\n",
       " 290.08601041795225,\n",
       " 290.08556709432884,\n",
       " 290.08513100951234,\n",
       " 290.0847020449662,\n",
       " 290.0842800841014,\n",
       " 290.0838650122444,\n",
       " 290.08345671660584,\n",
       " 290.0830550862491,\n",
       " 290.08266001206,\n",
       " 290.08227138671646,\n",
       " 290.0818891046595,\n",
       " 290.0815130620634,\n",
       " 290.08114315680757,\n",
       " 290.08077928844864,\n",
       " 290.0804213581923,\n",
       " 290.0800692688664,\n",
       " 290.0797229248942,\n",
       " 290.07938223226813,\n",
       " 290.07904709852374,\n",
       " 290.0787174327143,\n",
       " 290.07839314538603,\n",
       " 290.07807414855324,\n",
       " 290.0777603556742,\n",
       " 290.07745168162745,\n",
       " 290.07714804268835,\n",
       " 290.076849356506,\n",
       " 290.07655554208077,\n",
       " 290.0762665197418,\n",
       " 290.0759822111252,\n",
       " 290.075702539153,\n",
       " 290.0754274280111,\n",
       " 290.0751568031292,\n",
       " 290.07489059115983,\n",
       " 290.0746287199587,\n",
       " 290.0743711185645,\n",
       " 290.07411771717955,\n",
       " 290.0738684471506,\n",
       " 290.0736232409502,\n",
       " 290.0733820321578,\n",
       " 290.07314475544206,\n",
       " 290.0729113465425,\n",
       " 290.07268174225186,\n",
       " 290.07245588039916,\n",
       " 290.0722336998323,\n",
       " 290.07201514040133,\n",
       " 290.07180014294227,\n",
       " 290.07158864926043,\n",
       " 290.071380602115,\n",
       " 290.07117594520275,\n",
       " 290.07097462314334,\n",
       " 290.07077658146335,\n",
       " 290.070581766582,\n",
       " 290.0703901257961,\n",
       " 290.0702016072661,\n",
       " 290.070016160001,\n",
       " 290.06983373384537,\n",
       " 290.0696542794652,\n",
       " 290.0694777483344,\n",
       " 290.0693040927212,\n",
       " 290.0691332656759,\n",
       " 290.06896522101727,\n",
       " 290.0687999133203,\n",
       " 290.0686372979036,\n",
       " 290.0684773308174,\n",
       " 290.06831996883125,\n",
       " 290.0681651694225,\n",
       " 290.06801289076435,\n",
       " 290.06786309171474,\n",
       " 290.06771573180504,\n",
       " 290.06757077122876,\n",
       " 290.06742817083074,\n",
       " 290.06728789209683,\n",
       " 290.0671498971429,\n",
       " 290.06701414870463,\n",
       " 290.06688061012767,\n",
       " 290.066749245357,\n",
       " 290.0666200189277,\n",
       " 290.06649289595487,\n",
       " 290.06636784212435,\n",
       " 290.06624482368306,\n",
       " 290.0661238074302,\n",
       " 290.0660047607078,\n",
       " 290.0658876513922,\n",
       " 290.0657724478846,\n",
       " 290.0656591191037,\n",
       " 290.0655476344756,\n",
       " 290.0654379639269,\n",
       " 290.0653300778756,\n",
       " 290.06522394722344,\n",
       " 290.06511954334775,\n",
       " 290.0650168380939,\n",
       " 290.0649158037676,\n",
       " 290.06481641312695,\n",
       " 290.0647186393754,\n",
       " 290.06462245615444,\n",
       " 290.0645278375364,\n",
       " 290.06443475801717,\n",
       " 290.06434319250945,\n",
       " 290.0642531163361,\n",
       " 290.06416450522295,\n",
       " 290.0640773352925,\n",
       " 290.0639915830574,\n",
       " 290.06390722541397,\n",
       " 290.06382423963606,\n",
       " 290.0637426033688,\n",
       " 290.0636622946223,\n",
       " 290.063583291766,\n",
       " 290.0635055735227,\n",
       " 290.0634291189625,\n",
       " 290.0633539074977,\n",
       " 290.0632799188762,\n",
       " 290.06320713317734,\n",
       " 290.0631355308052,\n",
       " 290.0630650924842,\n",
       " 290.06299579925314,\n",
       " 290.06292763246074,\n",
       " 290.0628605737602,\n",
       " 290.06279460510393,\n",
       " 290.0627297087393,\n",
       " 290.0626658672033,\n",
       " 290.0626030633181,\n",
       " 290.062541280186,\n",
       " 290.06248050118546,\n",
       " 290.062420709966,\n",
       " 290.06236189044404,\n",
       " 290.0623040267984,\n",
       " 290.06224710346635,\n",
       " 290.0621911051386,\n",
       " 290.0621360167562,\n",
       " 290.06208182350576,\n",
       " 290.0620285108153,\n",
       " 290.0619760643511,\n",
       " 290.0619244700126,\n",
       " 290.0618737139301,\n",
       " 290.0618237824594,\n",
       " 290.06177466217935,\n",
       " 290.0617263398875,\n",
       " 290.06167880259693,\n",
       " 290.06163203753215,\n",
       " 290.06158603212657,\n",
       " 290.06154077401817,\n",
       " 290.0614962510466,\n",
       " 290.0614524512498,\n",
       " 290.061409362861,\n",
       " 290.0613669743049,\n",
       " 290.0613252741953,\n",
       " 290.0612842513315,\n",
       " 290.0612438946953,\n",
       " 290.06120419344813,\n",
       " 290.06116513692865,\n",
       " 290.0611267146484,\n",
       " 290.0610889162909,\n",
       " 290.0610517317069,\n",
       " 290.0610151509132,\n",
       " 290.0609791640891,\n",
       " 290.0609437615738,\n",
       " 290.06090893386437,\n",
       " 290.06087467161257,\n",
       " 290.06084096562216,\n",
       " 290.06080780684727,\n",
       " 290.06077518638915,\n",
       " 290.06074309549393,\n",
       " 290.06071152555086,\n",
       " 290.0606804680889,\n",
       " 290.06064991477547,\n",
       " 290.06061985741354,\n",
       " 290.0605902879396,\n",
       " 290.06056119842157,\n",
       " 290.0605325810566,\n",
       " 290.0605044281689,\n",
       " 290.0604767322076,\n",
       " 290.0604494857451,\n",
       " 290.0604226814745,\n",
       " 290.06039631220796,\n",
       " 290.0603703708749,\n",
       " 290.06034485051975,\n",
       " 290.0603197443,\n",
       " 290.06029504548496,\n",
       " 290.0602707474532,\n",
       " 290.0602468436914,\n",
       " 290.060223327792,\n",
       " 290.0602001934521,\n",
       " 290.06017743447103,\n",
       " 290.0601550447493,\n",
       " 290.0601330182868,\n",
       " 290.0601113491809,\n",
       " 290.0600900316252,\n",
       " 290.0600690599076,\n",
       " 290.0600484284094,\n",
       " 290.06002813160285,\n",
       " 290.0600081640506,\n",
       " 290.05998852040346,\n",
       " 290.05996919539956,\n",
       " 290.0599501838625,\n",
       " 290.05993148070013,\n",
       " 290.0599130809033,\n",
       " 290.0598949795443,\n",
       " 290.0598771717755,\n",
       " 290.05985965282827,\n",
       " 290.05984241801156,\n",
       " 290.05982546271065,\n",
       " 290.0598087823858,\n",
       " 290.0597923725712,\n",
       " 290.0597762288738,\n",
       " 290.05976034697187,\n",
       " 290.0597447226139,\n",
       " 290.0597293516179,\n",
       " 290.0597142298695,\n",
       " 290.0596993533215,\n",
       " 290.05968471799235,\n",
       " 290.0596703199656,\n",
       " 290.05965615538804,\n",
       " 290.0596422204694,\n",
       " 290.0596285114811,\n",
       " 290.0596150247551,\n",
       " 290.05960175668287,\n",
       " 290.05958870371484,\n",
       " 290.059575862359,\n",
       " 290.05956322918,\n",
       " 290.0595508007988,\n",
       " 290.0595385738906,\n",
       " 290.05952654518535,\n",
       " 290.0595147114658,\n",
       " 290.0595030695671,\n",
       " 290.0594916163756,\n",
       " 290.05948034882886,\n",
       " 290.05946926391357,\n",
       " 290.0594583586658,\n",
       " 290.05944763016976,\n",
       " 290.0594370755568,\n",
       " 290.05942669200533,\n",
       " 290.0594164767391,\n",
       " 290.05940642702745,\n",
       " 290.05939654018385,\n",
       " 290.05938681356554,\n",
       " 290.05937724457254,\n",
       " 290.0593678306474,\n",
       " 290.0593585692739,\n",
       " 290.059349457977,\n",
       " 290.0593404943218,\n",
       " 290.0593316759128,\n",
       " 290.05932300039365,\n",
       " 290.05931446544616,\n",
       " 290.05930606878974,\n",
       " 290.05929780818104,\n",
       " 290.0592896814131,\n",
       " 290.0592816863147,\n",
       " 290.05927382075,\n",
       " 290.0592660826178,\n",
       " 290.059258469851,\n",
       " 290.0592509804163,\n",
       " 290.05924361231325,\n",
       " 290.05923636357375,\n",
       " 290.059229232262,\n",
       " 290.05922221647336,\n",
       " 290.05921531433415,\n",
       " 290.05920852400146,\n",
       " 290.059201843662,\n",
       " 290.05919527153173,\n",
       " 290.05918880585625,\n",
       " 290.0591824449088,\n",
       " 290.05917618699146,\n",
       " 290.05917003043334,\n",
       " 290.0591639735909,\n",
       " 290.0591580148473,\n",
       " 290.05915215261183,\n",
       " 290.05914638531976]"
      ]
     },
     "execution_count": 21,
     "metadata": {},
     "output_type": "execute_result"
    }
   ],
   "source": [
    "modelo_reg.get_mse_hist()"
   ]
  },
  {
   "cell_type": "code",
   "execution_count": 23,
   "id": "d49dbcb5",
   "metadata": {},
   "outputs": [
    {
     "data": {
      "image/png": "[encoded data removed]",
      "text/plain": [
       "<Figure size 432x288 with 1 Axes>"
      ]
     },
     "metadata": {
      "needs_background": "light"
     },
     "output_type": "display_data"
    }
   ],
   "source": [
    "plt.plot(modelo_reg.get_mse_hist());"
   ]
  },
  {
   "cell_type": "code",
   "execution_count": null,
   "id": "6b43439b",
   "metadata": {},
   "outputs": [],
   "source": []
  },
  {
   "cell_type": "markdown",
   "id": "28f403f0",
   "metadata": {},
   "source": [
    "### Ejemplo 1:"
   ]
  },
  {
   "cell_type": "code",
   "execution_count": 24,
   "id": "fc27fa59",
   "metadata": {},
   "outputs": [],
   "source": [
    "# Cargar de la Librería LinearRegression\n",
    "from HAIA import LinearRegression as LR"
   ]
  },
  {
   "cell_type": "code",
   "execution_count": 26,
   "id": "ce44e2a6",
   "metadata": {},
   "outputs": [
    {
     "data": {
      "text/html": [
       "<div>\n",
       "<style scoped>\n",
       "    .dataframe tbody tr th:only-of-type {\n",
       "        vertical-align: middle;\n",
       "    }\n",
       "\n",
       "    .dataframe tbody tr th {\n",
       "        vertical-align: top;\n",
       "    }\n",
       "\n",
       "    .dataframe thead th {\n",
       "        text-align: right;\n",
       "    }\n",
       "</style>\n",
       "<table border=\"1\" class=\"dataframe\">\n",
       "  <thead>\n",
       "    <tr style=\"text-align: right;\">\n",
       "      <th></th>\n",
       "      <th>Position</th>\n",
       "      <th>Level</th>\n",
       "      <th>Salary</th>\n",
       "    </tr>\n",
       "  </thead>\n",
       "  <tbody>\n",
       "    <tr>\n",
       "      <th>0</th>\n",
       "      <td>Business Analyst</td>\n",
       "      <td>1</td>\n",
       "      <td>45000</td>\n",
       "    </tr>\n",
       "    <tr>\n",
       "      <th>1</th>\n",
       "      <td>Junior Consultant</td>\n",
       "      <td>2</td>\n",
       "      <td>50000</td>\n",
       "    </tr>\n",
       "    <tr>\n",
       "      <th>2</th>\n",
       "      <td>Senior Consultant</td>\n",
       "      <td>3</td>\n",
       "      <td>60000</td>\n",
       "    </tr>\n",
       "    <tr>\n",
       "      <th>3</th>\n",
       "      <td>Manager</td>\n",
       "      <td>4</td>\n",
       "      <td>80000</td>\n",
       "    </tr>\n",
       "    <tr>\n",
       "      <th>4</th>\n",
       "      <td>Country Manager</td>\n",
       "      <td>5</td>\n",
       "      <td>110000</td>\n",
       "    </tr>\n",
       "  </tbody>\n",
       "</table>\n",
       "</div>"
      ],
      "text/plain": [
       "            Position  Level  Salary\n",
       "0   Business Analyst      1   45000\n",
       "1  Junior Consultant      2   50000\n",
       "2  Senior Consultant      3   60000\n",
       "3            Manager      4   80000\n",
       "4    Country Manager      5  110000"
      ]
     },
     "execution_count": 26,
     "metadata": {},
     "output_type": "execute_result"
    }
   ],
   "source": [
    "datos = pd.read_csv('Data/Position_Salaries.csv')\n",
    "datos.head()"
   ]
  },
  {
   "cell_type": "code",
   "execution_count": 28,
   "id": "4d695db6",
   "metadata": {},
   "outputs": [],
   "source": [
    "X = datos[['Level']]\n",
    "y = datos[['Salary']]"
   ]
  },
  {
   "cell_type": "code",
   "execution_count": 29,
   "id": "7f249b0d",
   "metadata": {},
   "outputs": [
    {
     "data": {
      "image/png": "[encoded data removed]",
      "text/plain": [
       "<Figure size 432x288 with 1 Axes>"
      ]
     },
     "metadata": {
      "needs_background": "light"
     },
     "output_type": "display_data"
    }
   ],
   "source": [
    "plt.figure(figsize=(6,4))\n",
    "plt.scatter(X.values, y.values)\n",
    "plt.xlabel('Level')\n",
    "plt.ylabel('Sevel')\n",
    "plt.show()"
   ]
  },
  {
   "cell_type": "code",
   "execution_count": 30,
   "id": "55d6164d",
   "metadata": {},
   "outputs": [],
   "source": [
    "# Aplicar un Modelo de regresión Lineal\n",
    "\n",
    "#1.- Instanciar un Objeto de la clase LR\n",
    "reg_model = LR(lr=0.001, n_iters=2000)\n"
   ]
  },
  {
   "cell_type": "code",
   "execution_count": 31,
   "id": "2a9592f5",
   "metadata": {},
   "outputs": [],
   "source": [
    "#Entrenamiento del modeloreg_model = LinearRegression()\n",
    "reg_model.fit(X.values, y.values)"
   ]
  },
  {
   "cell_type": "code",
   "execution_count": 33,
   "id": "dc0df4ee",
   "metadata": {},
   "outputs": [
    {
     "data": {
      "text/plain": [
       "(array([[61741.86574765]]), -62105.48076634659)"
      ]
     },
     "execution_count": 33,
     "metadata": {},
     "output_type": "execute_result"
    }
   ],
   "source": [
    "reg_model.get_coef(), reg_model.get_bias()"
   ]
  },
  {
   "cell_type": "code",
   "execution_count": 34,
   "id": "5dc11a27",
   "metadata": {},
   "outputs": [
    {
     "data": {
      "text/plain": [
       "array([[-3.63615019e+02],\n",
       "       [ 6.13782507e+04],\n",
       "       [ 1.23120116e+05],\n",
       "       [ 1.84861982e+05],\n",
       "       [ 2.46603848e+05],\n",
       "       [ 3.08345714e+05],\n",
       "       [ 3.70087579e+05],\n",
       "       [ 4.31829445e+05],\n",
       "       [ 4.93571311e+05],\n",
       "       [ 5.55313177e+05]])"
      ]
     },
     "execution_count": 34,
     "metadata": {},
     "output_type": "execute_result"
    }
   ],
   "source": [
    "#2.- Predecir los valores de x\n",
    "ypred = reg_model.predict(X.values)\n",
    "ypred"
   ]
  },
  {
   "cell_type": "code",
   "execution_count": 40,
   "id": "1e992ab3",
   "metadata": {},
   "outputs": [
    {
     "data": {
      "image/png": "[encoded data removed]",
      "text/plain": [
       "<Figure size 432x288 with 1 Axes>"
      ]
     },
     "metadata": {
      "needs_background": "light"
     },
     "output_type": "display_data"
    }
   ],
   "source": [
    "#3.- Graficar el modelo con los datos\n",
    "plt.figure(figsize=(6,4))\n",
    "plt.scatter(X.values, y.values)\n",
    "plt.plot(X.values, ypred, 'r')\n",
    "plt.xlabel('Level')\n",
    "plt.ylabel('Salary')\n",
    "plt.show()\n"
   ]
  },
  {
   "cell_type": "code",
   "execution_count": 38,
   "id": "2c88bbb6",
   "metadata": {},
   "outputs": [
    {
     "data": {
      "image/png": "[encoded data removed]",
      "text/plain": [
       "<Figure size 432x288 with 1 Axes>"
      ]
     },
     "metadata": {
      "needs_background": "light"
     },
     "output_type": "display_data"
    }
   ],
   "source": [
    "#4.- Evaluar el modelo : \n",
    "plt.plot(reg_model.get_mse_hist(), 'r');\n",
    "\n"
   ]
  },
  {
   "cell_type": "markdown",
   "id": "cd7b323c",
   "metadata": {},
   "source": [
    "## Regression Polinomial "
   ]
  },
  {
   "cell_type": "markdown",
   "id": "00f468e3",
   "metadata": {},
   "source": [
    "Ahora, la ecuación para la Regresión Polinomial será la siguiente:\n",
    "\n",
    "$$y =  \\beta_0 + \\beta_1 x + \\beta_2 x^2 + ... + \\beta_n x^n$$\n"
   ]
  },
  {
   "cell_type": "code",
   "execution_count": 41,
   "id": "b3c9baee",
   "metadata": {},
   "outputs": [],
   "source": [
    "from sklearn.preprocessing import PolynomialFeatures"
   ]
  },
  {
   "cell_type": "code",
   "execution_count": 48,
   "id": "2fab3cc4",
   "metadata": {},
   "outputs": [],
   "source": [
    "poly = PolynomialFeatures(degree= 2, include_bias=False)"
   ]
  },
  {
   "cell_type": "code",
   "execution_count": 49,
   "id": "c4f2e12a",
   "metadata": {},
   "outputs": [
    {
     "data": {
      "text/plain": [
       "array([[  1.,   1.],\n",
       "       [  2.,   4.],\n",
       "       [  3.,   9.],\n",
       "       [  4.,  16.],\n",
       "       [  5.,  25.],\n",
       "       [  6.,  36.],\n",
       "       [  7.,  49.],\n",
       "       [  8.,  64.],\n",
       "       [  9.,  81.],\n",
       "       [ 10., 100.]])"
      ]
     },
     "execution_count": 49,
     "metadata": {},
     "output_type": "execute_result"
    }
   ],
   "source": [
    "X_poly = poly.fit_transform(X)\n",
    "X_poly"
   ]
  },
  {
   "cell_type": "code",
   "execution_count": 52,
   "id": "872c0d17",
   "metadata": {},
   "outputs": [
    {
     "data": {
      "text/plain": [
       "array([[  45000],\n",
       "       [  50000],\n",
       "       [  60000],\n",
       "       [  80000],\n",
       "       [ 110000],\n",
       "       [ 150000],\n",
       "       [ 200000],\n",
       "       [ 300000],\n",
       "       [ 500000],\n",
       "       [1000000]], dtype=int64)"
      ]
     },
     "execution_count": 52,
     "metadata": {},
     "output_type": "execute_result"
    }
   ],
   "source": [
    "y.values"
   ]
  },
  {
   "cell_type": "code",
   "execution_count": 53,
   "id": "6c4fee57",
   "metadata": {},
   "outputs": [],
   "source": [
    "#Aplicar el modelo de reg Lineal con grado 2\n",
    "reg_model2 = LR(n_iters=10000, lr = 0.0001)\n",
    "#Entrenar el modelo\n",
    "reg_model2.fit(X_poly, y.values)"
   ]
  },
  {
   "cell_type": "code",
   "execution_count": 54,
   "id": "ab0fff49",
   "metadata": {},
   "outputs": [
    {
     "data": {
      "text/plain": [
       "array([[-39965.98527218],\n",
       "       [ 11844.64921174]])"
      ]
     },
     "execution_count": 54,
     "metadata": {},
     "output_type": "execute_result"
    }
   ],
   "source": [
    "reg_model2.get_coef()"
   ]
  },
  {
   "cell_type": "code",
   "execution_count": 56,
   "id": "34302a6f",
   "metadata": {
    "scrolled": true
   },
   "outputs": [
    {
     "data": {
      "text/plain": [
       "1398.6217206298325"
      ]
     },
     "execution_count": 56,
     "metadata": {},
     "output_type": "execute_result"
    }
   ],
   "source": [
    "reg_model2.get_bias()"
   ]
  },
  {
   "cell_type": "markdown",
   "id": "9fdfa2fe",
   "metadata": {},
   "source": [
    "$$ \\hat{y}(x) =1398.6  -39965.98*x + 11844.649*x^2$$"
   ]
  },
  {
   "cell_type": "code",
   "execution_count": 57,
   "id": "25b02106",
   "metadata": {},
   "outputs": [
    {
     "data": {
      "text/plain": [
       "array([[-26722.71433981],\n",
       "       [-31154.75197675],\n",
       "       [-11897.49119022],\n",
       "       [ 31049.06801981],\n",
       "       [ 97684.92565332],\n",
       "       [188010.08171032],\n",
       "       [302024.53619081],\n",
       "       [439728.28909478],\n",
       "       [601121.34042224],\n",
       "       [786203.69017319]])"
      ]
     },
     "execution_count": 57,
     "metadata": {},
     "output_type": "execute_result"
    }
   ],
   "source": [
    "#predecir el modelo\n",
    "ypred_poly2 = reg_model2.predict(X_poly)\n",
    "ypred_poly2"
   ]
  },
  {
   "cell_type": "code",
   "execution_count": 59,
   "id": "c99010c2",
   "metadata": {},
   "outputs": [
    {
     "data": {
      "image/png": "[encoded data removed]",
      "text/plain": [
       "<Figure size 432x288 with 1 Axes>"
      ]
     },
     "metadata": {
      "needs_background": "light"
     },
     "output_type": "display_data"
    },
    {
     "data": {
      "image/png": "[encoded data removed]",
      "text/plain": [
       "<Figure size 432x288 with 1 Axes>"
      ]
     },
     "metadata": {
      "needs_background": "light"
     },
     "output_type": "display_data"
    }
   ],
   "source": [
    "#3.- Graficar el modelo con los datos\n",
    "plt.figure(figsize=(6,4))\n",
    "plt.scatter(X.values, y.values)\n",
    "plt.plot(X.values, ypred, 'g')\n",
    "plt.plot(X.values, ypred_poly2, 'r')\n",
    "plt.xlabel('Level')\n",
    "plt.ylabel('Salary')\n",
    "plt.show()\n",
    "\n",
    "#Obtener historial de la minimización del error\n",
    "\n",
    "plt.figure(figsize=(6,4))\n",
    "plt.plot(reg_model2.get_mse_hist(),'r')\n",
    "plt.xlabel('n_iterations')\n",
    "plt.ylabel('MSE')\n",
    "plt.show()"
   ]
  },
  {
   "cell_type": "code",
   "execution_count": null,
   "id": "a304aeb5",
   "metadata": {},
   "outputs": [],
   "source": []
  },
  {
   "cell_type": "markdown",
   "id": "6c8d3201",
   "metadata": {},
   "source": [
    "## Regression Multiple "
   ]
  },
  {
   "cell_type": "markdown",
   "id": "bec877f0",
   "metadata": {},
   "source": [
    "$$y =  \\beta_0 + \\beta_1 x_1 + \\beta_2 x_2 + ... + \\beta_n x_n$$\n"
   ]
  },
  {
   "cell_type": "code",
   "execution_count": 62,
   "id": "bfbb8ac4",
   "metadata": {},
   "outputs": [
    {
     "data": {
      "text/html": [
       "<div>\n",
       "<style scoped>\n",
       "    .dataframe tbody tr th:only-of-type {\n",
       "        vertical-align: middle;\n",
       "    }\n",
       "\n",
       "    .dataframe tbody tr th {\n",
       "        vertical-align: top;\n",
       "    }\n",
       "\n",
       "    .dataframe thead th {\n",
       "        text-align: right;\n",
       "    }\n",
       "</style>\n",
       "<table border=\"1\" class=\"dataframe\">\n",
       "  <thead>\n",
       "    <tr style=\"text-align: right;\">\n",
       "      <th></th>\n",
       "      <th>Avg. Area Income</th>\n",
       "      <th>Avg. Area House Age</th>\n",
       "      <th>Avg. Area Number of Rooms</th>\n",
       "      <th>Avg. Area Number of Bedrooms</th>\n",
       "      <th>Area Population</th>\n",
       "      <th>Price</th>\n",
       "      <th>Address</th>\n",
       "    </tr>\n",
       "  </thead>\n",
       "  <tbody>\n",
       "    <tr>\n",
       "      <th>0</th>\n",
       "      <td>79545.458574</td>\n",
       "      <td>5.682861</td>\n",
       "      <td>7.009188</td>\n",
       "      <td>4.09</td>\n",
       "      <td>23086.800503</td>\n",
       "      <td>1.059034e+06</td>\n",
       "      <td>208 Michael Ferry Apt. 674\\nLaurabury, NE 3701...</td>\n",
       "    </tr>\n",
       "    <tr>\n",
       "      <th>1</th>\n",
       "      <td>79248.642455</td>\n",
       "      <td>6.002900</td>\n",
       "      <td>6.730821</td>\n",
       "      <td>3.09</td>\n",
       "      <td>40173.072174</td>\n",
       "      <td>1.505891e+06</td>\n",
       "      <td>188 Johnson Views Suite 079\\nLake Kathleen, CA...</td>\n",
       "    </tr>\n",
       "    <tr>\n",
       "      <th>2</th>\n",
       "      <td>61287.067179</td>\n",
       "      <td>5.865890</td>\n",
       "      <td>8.512727</td>\n",
       "      <td>5.13</td>\n",
       "      <td>36882.159400</td>\n",
       "      <td>1.058988e+06</td>\n",
       "      <td>9127 Elizabeth Stravenue\\nDanieltown, WI 06482...</td>\n",
       "    </tr>\n",
       "  </tbody>\n",
       "</table>\n",
       "</div>"
      ],
      "text/plain": [
       "   Avg. Area Income  Avg. Area House Age  Avg. Area Number of Rooms  \\\n",
       "0      79545.458574             5.682861                   7.009188   \n",
       "1      79248.642455             6.002900                   6.730821   \n",
       "2      61287.067179             5.865890                   8.512727   \n",
       "\n",
       "   Avg. Area Number of Bedrooms  Area Population         Price  \\\n",
       "0                          4.09     23086.800503  1.059034e+06   \n",
       "1                          3.09     40173.072174  1.505891e+06   \n",
       "2                          5.13     36882.159400  1.058988e+06   \n",
       "\n",
       "                                             Address  \n",
       "0  208 Michael Ferry Apt. 674\\nLaurabury, NE 3701...  \n",
       "1  188 Johnson Views Suite 079\\nLake Kathleen, CA...  \n",
       "2  9127 Elizabeth Stravenue\\nDanieltown, WI 06482...  "
      ]
     },
     "execution_count": 62,
     "metadata": {},
     "output_type": "execute_result"
    }
   ],
   "source": [
    "house = pd.read_csv('Data/USA_housing.csv')\n",
    "house.head(3)"
   ]
  },
  {
   "cell_type": "code",
   "execution_count": 63,
   "id": "c4c60568",
   "metadata": {},
   "outputs": [],
   "source": [
    "from HAIA import HyAIA as hy"
   ]
  },
  {
   "cell_type": "code",
   "execution_count": 64,
   "id": "c5d6e3ac",
   "metadata": {},
   "outputs": [],
   "source": [
    "house = hy(house)"
   ]
  },
  {
   "cell_type": "code",
   "execution_count": 65,
   "id": "8d338ef3",
   "metadata": {},
   "outputs": [
    {
     "data": {
      "text/html": [
       "<div>\n",
       "<style scoped>\n",
       "    .dataframe tbody tr th:only-of-type {\n",
       "        vertical-align: middle;\n",
       "    }\n",
       "\n",
       "    .dataframe tbody tr th {\n",
       "        vertical-align: top;\n",
       "    }\n",
       "\n",
       "    .dataframe thead th {\n",
       "        text-align: right;\n",
       "    }\n",
       "</style>\n",
       "<table border=\"1\" class=\"dataframe\">\n",
       "  <thead>\n",
       "    <tr style=\"text-align: right;\">\n",
       "      <th></th>\n",
       "      <th>Columns_Names</th>\n",
       "      <th>Dtypes</th>\n",
       "      <th>Present_values</th>\n",
       "      <th>Missing_values</th>\n",
       "      <th>Unique_values</th>\n",
       "      <th>Max_values</th>\n",
       "      <th>Min_values</th>\n",
       "      <th>Mean_values</th>\n",
       "      <th>Is_Categorical</th>\n",
       "    </tr>\n",
       "  </thead>\n",
       "  <tbody>\n",
       "    <tr>\n",
       "      <th>Avg. Area Income</th>\n",
       "      <td>Avg. Area Income</td>\n",
       "      <td>float64</td>\n",
       "      <td>5000</td>\n",
       "      <td>0</td>\n",
       "      <td>5000</td>\n",
       "      <td>107701.748378</td>\n",
       "      <td>17796.63119</td>\n",
       "      <td>68583.108984</td>\n",
       "      <td>False</td>\n",
       "    </tr>\n",
       "    <tr>\n",
       "      <th>Avg. Area House Age</th>\n",
       "      <td>Avg. Area House Age</td>\n",
       "      <td>float64</td>\n",
       "      <td>5000</td>\n",
       "      <td>0</td>\n",
       "      <td>5000</td>\n",
       "      <td>9.519088</td>\n",
       "      <td>2.644304</td>\n",
       "      <td>5.977222</td>\n",
       "      <td>False</td>\n",
       "    </tr>\n",
       "    <tr>\n",
       "      <th>Avg. Area Number of Rooms</th>\n",
       "      <td>Avg. Area Number of Rooms</td>\n",
       "      <td>float64</td>\n",
       "      <td>5000</td>\n",
       "      <td>0</td>\n",
       "      <td>5000</td>\n",
       "      <td>10.759588</td>\n",
       "      <td>3.236194</td>\n",
       "      <td>6.987792</td>\n",
       "      <td>False</td>\n",
       "    </tr>\n",
       "    <tr>\n",
       "      <th>Avg. Area Number of Bedrooms</th>\n",
       "      <td>Avg. Area Number of Bedrooms</td>\n",
       "      <td>float64</td>\n",
       "      <td>5000</td>\n",
       "      <td>0</td>\n",
       "      <td>255</td>\n",
       "      <td>6.5</td>\n",
       "      <td>2.0</td>\n",
       "      <td>3.98133</td>\n",
       "      <td>False</td>\n",
       "    </tr>\n",
       "    <tr>\n",
       "      <th>Area Population</th>\n",
       "      <td>Area Population</td>\n",
       "      <td>float64</td>\n",
       "      <td>5000</td>\n",
       "      <td>0</td>\n",
       "      <td>5000</td>\n",
       "      <td>69621.713378</td>\n",
       "      <td>172.610686</td>\n",
       "      <td>36163.516039</td>\n",
       "      <td>False</td>\n",
       "    </tr>\n",
       "    <tr>\n",
       "      <th>Price</th>\n",
       "      <td>Price</td>\n",
       "      <td>float64</td>\n",
       "      <td>5000</td>\n",
       "      <td>0</td>\n",
       "      <td>5000</td>\n",
       "      <td>2469065.594175</td>\n",
       "      <td>15938.657923</td>\n",
       "      <td>1232072.654142</td>\n",
       "      <td>False</td>\n",
       "    </tr>\n",
       "    <tr>\n",
       "      <th>Address</th>\n",
       "      <td>Address</td>\n",
       "      <td>object</td>\n",
       "      <td>5000</td>\n",
       "      <td>0</td>\n",
       "      <td>5000</td>\n",
       "      <td>Unit 9871 Box 9037\\nDPO AP 37275-9289</td>\n",
       "      <td>000 Adkins Crescent\\nSouth Teresa, AS 49642-1348</td>\n",
       "      <td>N/A</td>\n",
       "      <td>True</td>\n",
       "    </tr>\n",
       "  </tbody>\n",
       "</table>\n",
       "</div>"
      ],
      "text/plain": [
       "                                             Columns_Names   Dtypes  \\\n",
       "Avg. Area Income                          Avg. Area Income  float64   \n",
       "Avg. Area House Age                    Avg. Area House Age  float64   \n",
       "Avg. Area Number of Rooms        Avg. Area Number of Rooms  float64   \n",
       "Avg. Area Number of Bedrooms  Avg. Area Number of Bedrooms  float64   \n",
       "Area Population                            Area Population  float64   \n",
       "Price                                                Price  float64   \n",
       "Address                                            Address   object   \n",
       "\n",
       "                              Present_values  Missing_values  Unique_values  \\\n",
       "Avg. Area Income                        5000               0           5000   \n",
       "Avg. Area House Age                     5000               0           5000   \n",
       "Avg. Area Number of Rooms               5000               0           5000   \n",
       "Avg. Area Number of Bedrooms            5000               0            255   \n",
       "Area Population                         5000               0           5000   \n",
       "Price                                   5000               0           5000   \n",
       "Address                                 5000               0           5000   \n",
       "\n",
       "                                                         Max_values  \\\n",
       "Avg. Area Income                                      107701.748378   \n",
       "Avg. Area House Age                                        9.519088   \n",
       "Avg. Area Number of Rooms                                 10.759588   \n",
       "Avg. Area Number of Bedrooms                                    6.5   \n",
       "Area Population                                        69621.713378   \n",
       "Price                                                2469065.594175   \n",
       "Address                       Unit 9871 Box 9037\\nDPO AP 37275-9289   \n",
       "\n",
       "                                                                    Min_values  \\\n",
       "Avg. Area Income                                                   17796.63119   \n",
       "Avg. Area House Age                                                   2.644304   \n",
       "Avg. Area Number of Rooms                                             3.236194   \n",
       "Avg. Area Number of Bedrooms                                               2.0   \n",
       "Area Population                                                     172.610686   \n",
       "Price                                                             15938.657923   \n",
       "Address                       000 Adkins Crescent\\nSouth Teresa, AS 49642-1348   \n",
       "\n",
       "                                 Mean_values  Is_Categorical  \n",
       "Avg. Area Income                68583.108984           False  \n",
       "Avg. Area House Age                 5.977222           False  \n",
       "Avg. Area Number of Rooms           6.987792           False  \n",
       "Avg. Area Number of Bedrooms         3.98133           False  \n",
       "Area Population                 36163.516039           False  \n",
       "Price                         1232072.654142           False  \n",
       "Address                                  N/A            True  "
      ]
     },
     "execution_count": 65,
     "metadata": {},
     "output_type": "execute_result"
    }
   ],
   "source": [
    "house.get_dqr()"
   ]
  },
  {
   "cell_type": "code",
   "execution_count": 68,
   "id": "fd0922c6",
   "metadata": {},
   "outputs": [],
   "source": [
    "house.data.drop('Address', axis=1, inplace=True)"
   ]
  },
  {
   "cell_type": "code",
   "execution_count": 70,
   "id": "c0296a56",
   "metadata": {},
   "outputs": [
    {
     "data": {
      "text/html": [
       "<div>\n",
       "<style scoped>\n",
       "    .dataframe tbody tr th:only-of-type {\n",
       "        vertical-align: middle;\n",
       "    }\n",
       "\n",
       "    .dataframe tbody tr th {\n",
       "        vertical-align: top;\n",
       "    }\n",
       "\n",
       "    .dataframe thead th {\n",
       "        text-align: right;\n",
       "    }\n",
       "</style>\n",
       "<table border=\"1\" class=\"dataframe\">\n",
       "  <thead>\n",
       "    <tr style=\"text-align: right;\">\n",
       "      <th></th>\n",
       "      <th>Avg. Area Income</th>\n",
       "      <th>Avg. Area House Age</th>\n",
       "      <th>Avg. Area Number of Rooms</th>\n",
       "      <th>Avg. Area Number of Bedrooms</th>\n",
       "      <th>Area Population</th>\n",
       "      <th>Price</th>\n",
       "    </tr>\n",
       "  </thead>\n",
       "  <tbody>\n",
       "    <tr>\n",
       "      <th>0</th>\n",
       "      <td>79545.458574</td>\n",
       "      <td>5.682861</td>\n",
       "      <td>7.009188</td>\n",
       "      <td>4.09</td>\n",
       "      <td>23086.800503</td>\n",
       "      <td>1.059034e+06</td>\n",
       "    </tr>\n",
       "    <tr>\n",
       "      <th>1</th>\n",
       "      <td>79248.642455</td>\n",
       "      <td>6.002900</td>\n",
       "      <td>6.730821</td>\n",
       "      <td>3.09</td>\n",
       "      <td>40173.072174</td>\n",
       "      <td>1.505891e+06</td>\n",
       "    </tr>\n",
       "    <tr>\n",
       "      <th>2</th>\n",
       "      <td>61287.067179</td>\n",
       "      <td>5.865890</td>\n",
       "      <td>8.512727</td>\n",
       "      <td>5.13</td>\n",
       "      <td>36882.159400</td>\n",
       "      <td>1.058988e+06</td>\n",
       "    </tr>\n",
       "    <tr>\n",
       "      <th>3</th>\n",
       "      <td>63345.240046</td>\n",
       "      <td>7.188236</td>\n",
       "      <td>5.586729</td>\n",
       "      <td>3.26</td>\n",
       "      <td>34310.242831</td>\n",
       "      <td>1.260617e+06</td>\n",
       "    </tr>\n",
       "    <tr>\n",
       "      <th>4</th>\n",
       "      <td>59982.197226</td>\n",
       "      <td>5.040555</td>\n",
       "      <td>7.839388</td>\n",
       "      <td>4.23</td>\n",
       "      <td>26354.109472</td>\n",
       "      <td>6.309435e+05</td>\n",
       "    </tr>\n",
       "  </tbody>\n",
       "</table>\n",
       "</div>"
      ],
      "text/plain": [
       "   Avg. Area Income  Avg. Area House Age  Avg. Area Number of Rooms  \\\n",
       "0      79545.458574             5.682861                   7.009188   \n",
       "1      79248.642455             6.002900                   6.730821   \n",
       "2      61287.067179             5.865890                   8.512727   \n",
       "3      63345.240046             7.188236                   5.586729   \n",
       "4      59982.197226             5.040555                   7.839388   \n",
       "\n",
       "   Avg. Area Number of Bedrooms  Area Population         Price  \n",
       "0                          4.09     23086.800503  1.059034e+06  \n",
       "1                          3.09     40173.072174  1.505891e+06  \n",
       "2                          5.13     36882.159400  1.058988e+06  \n",
       "3                          3.26     34310.242831  1.260617e+06  \n",
       "4                          4.23     26354.109472  6.309435e+05  "
      ]
     },
     "execution_count": 70,
     "metadata": {},
     "output_type": "execute_result"
    }
   ],
   "source": [
    "house.data.head()"
   ]
  },
  {
   "cell_type": "code",
   "execution_count": null,
   "id": "6689651a",
   "metadata": {},
   "outputs": [],
   "source": [
    "# Estandarizar\n",
    "# xstd = (x - x.mean() )/x.std"
   ]
  },
  {
   "cell_type": "code",
   "execution_count": 71,
   "id": "dcbf2bd9",
   "metadata": {},
   "outputs": [],
   "source": [
    "from sklearn.preprocessing import StandardScaler"
   ]
  },
  {
   "cell_type": "code",
   "execution_count": 72,
   "id": "71cda835",
   "metadata": {},
   "outputs": [],
   "source": [
    "std = StandardScaler()"
   ]
  },
  {
   "cell_type": "code",
   "execution_count": 73,
   "id": "cb571ad1",
   "metadata": {},
   "outputs": [
    {
     "data": {
      "text/plain": [
       "array([[ 1.02865969, -0.29692705,  0.02127433,  0.08806222, -1.31759867],\n",
       "       [ 1.00080775,  0.02590164, -0.25550611, -0.72230146,  0.40399945],\n",
       "       [-0.68462916, -0.11230283,  1.5162435 ,  0.93084045,  0.07240989],\n",
       "       ...,\n",
       "       [-0.48723454,  1.28447022, -2.17026949, -1.50025059, -0.29193658],\n",
       "       [-0.05459152, -0.44669439,  0.14154061,  1.18205319,  0.65111608],\n",
       "       [-0.28831272,  0.01521477, -0.19434166,  0.07185495,  1.04162464]])"
      ]
     },
     "execution_count": 73,
     "metadata": {},
     "output_type": "execute_result"
    }
   ],
   "source": [
    "X_std = std.fit_transform(house.data.iloc[:,:5])\n",
    "X_std"
   ]
  },
  {
   "cell_type": "code",
   "execution_count": 74,
   "id": "4126b6bc",
   "metadata": {},
   "outputs": [
    {
     "data": {
      "text/plain": [
       "(5000, 5)"
      ]
     },
     "execution_count": 74,
     "metadata": {},
     "output_type": "execute_result"
    }
   ],
   "source": [
    "X_std.shape"
   ]
  },
  {
   "cell_type": "code",
   "execution_count": 77,
   "id": "d3c8149b",
   "metadata": {},
   "outputs": [
    {
     "data": {
      "text/plain": [
       "array([[1059033.55787012],\n",
       "       [1505890.91484695],\n",
       "       [1058987.98787608],\n",
       "       ...,\n",
       "       [1030729.58315229],\n",
       "       [1198656.87240769],\n",
       "       [1298950.48026696]])"
      ]
     },
     "execution_count": 77,
     "metadata": {},
     "output_type": "execute_result"
    }
   ],
   "source": [
    "y = house.data.iloc[:,5].values.reshape(len(y),1)\n",
    "y"
   ]
  },
  {
   "cell_type": "code",
   "execution_count": 78,
   "id": "b50aeb67",
   "metadata": {},
   "outputs": [
    {
     "data": {
      "text/plain": [
       "((5000, 5), (5000, 1))"
      ]
     },
     "execution_count": 78,
     "metadata": {},
     "output_type": "execute_result"
    }
   ],
   "source": [
    "X_std.shape, y.shape"
   ]
  },
  {
   "cell_type": "code",
   "execution_count": 79,
   "id": "4af32696",
   "metadata": {},
   "outputs": [],
   "source": [
    "#Aplicar el modelo de regresion multinomial (5 variables)\n",
    "reg_model_house = LR(n_iters = 1000, lr=0.01)\n",
    "#Entrenamiento\n",
    "reg_model_house.fit(X_std, y)"
   ]
  },
  {
   "cell_type": "code",
   "execution_count": 81,
   "id": "58009bed",
   "metadata": {},
   "outputs": [
    {
     "data": {
      "text/plain": [
       "Index(['Avg. Area Income', 'Avg. Area House Age', 'Avg. Area Number of Rooms',\n",
       "       'Avg. Area Number of Bedrooms', 'Area Population', 'Price'],\n",
       "      dtype='object')"
      ]
     },
     "execution_count": 81,
     "metadata": {},
     "output_type": "execute_result"
    }
   ],
   "source": [
    "house.data.columns"
   ]
  },
  {
   "cell_type": "markdown",
   "id": "d946dd47",
   "metadata": {},
   "source": [
    "$$ \\hat{y}(x_1,x_2,x_3,x_4,x_5) = \\beta_0 + \\beta_1 x_1 + \\beta_2 x_2 + \\beta_3 x_3  + \\beta_4 x_4 +  \\beta_5 x_5$$"
   ]
  },
  {
   "cell_type": "code",
   "execution_count": 80,
   "id": "ad937814",
   "metadata": {},
   "outputs": [
    {
     "data": {
      "text/plain": [
       "array([[229924.68245369],\n",
       "       [164186.90965201],\n",
       "       [121045.65750057],\n",
       "       [  2343.68915369],\n",
       "       [150867.03449416]])"
      ]
     },
     "execution_count": 80,
     "metadata": {},
     "output_type": "execute_result"
    }
   ],
   "source": [
    "reg_model_house.get_coef()"
   ]
  },
  {
   "cell_type": "code",
   "execution_count": 82,
   "id": "83f013fd",
   "metadata": {},
   "outputs": [
    {
     "data": {
      "text/plain": [
       "1232019.4640289764"
      ]
     },
     "execution_count": 82,
     "metadata": {},
     "output_type": "execute_result"
    }
   ],
   "source": [
    "reg_model_house.get_bias()"
   ]
  },
  {
   "cell_type": "code",
   "execution_count": 83,
   "id": "cd31dcf7",
   "metadata": {},
   "outputs": [
    {
     "data": {
      "image/png": "[encoded data removed]",
      "text/plain": [
       "<Figure size 432x288 with 1 Axes>"
      ]
     },
     "metadata": {
      "needs_background": "light"
     },
     "output_type": "display_data"
    }
   ],
   "source": [
    "#Obtener el error del modelo\n",
    "plt.figure(figsize=(6,4))\n",
    "plt.plot(reg_model_house.get_mse_hist(),'r')\n",
    "plt.xlabel('n_iterations')\n",
    "plt.ylabel('MSE')\n",
    "plt.show()"
   ]
  },
  {
   "cell_type": "code",
   "execution_count": 84,
   "id": "659bc8a4",
   "metadata": {},
   "outputs": [
    {
     "data": {
      "text/html": [
       "<div>\n",
       "<style scoped>\n",
       "    .dataframe tbody tr th:only-of-type {\n",
       "        vertical-align: middle;\n",
       "    }\n",
       "\n",
       "    .dataframe tbody tr th {\n",
       "        vertical-align: top;\n",
       "    }\n",
       "\n",
       "    .dataframe thead th {\n",
       "        text-align: right;\n",
       "    }\n",
       "</style>\n",
       "<table border=\"1\" class=\"dataframe\">\n",
       "  <thead>\n",
       "    <tr style=\"text-align: right;\">\n",
       "      <th></th>\n",
       "      <th>Avg. Area Income</th>\n",
       "      <th>Avg. Area House Age</th>\n",
       "      <th>Avg. Area Number of Rooms</th>\n",
       "      <th>Avg. Area Number of Bedrooms</th>\n",
       "      <th>Area Population</th>\n",
       "      <th>Price</th>\n",
       "    </tr>\n",
       "  </thead>\n",
       "  <tbody>\n",
       "    <tr>\n",
       "      <th>0</th>\n",
       "      <td>79545.458574</td>\n",
       "      <td>5.682861</td>\n",
       "      <td>7.009188</td>\n",
       "      <td>4.09</td>\n",
       "      <td>23086.800503</td>\n",
       "      <td>1.059034e+06</td>\n",
       "    </tr>\n",
       "    <tr>\n",
       "      <th>1</th>\n",
       "      <td>79248.642455</td>\n",
       "      <td>6.002900</td>\n",
       "      <td>6.730821</td>\n",
       "      <td>3.09</td>\n",
       "      <td>40173.072174</td>\n",
       "      <td>1.505891e+06</td>\n",
       "    </tr>\n",
       "    <tr>\n",
       "      <th>2</th>\n",
       "      <td>61287.067179</td>\n",
       "      <td>5.865890</td>\n",
       "      <td>8.512727</td>\n",
       "      <td>5.13</td>\n",
       "      <td>36882.159400</td>\n",
       "      <td>1.058988e+06</td>\n",
       "    </tr>\n",
       "    <tr>\n",
       "      <th>3</th>\n",
       "      <td>63345.240046</td>\n",
       "      <td>7.188236</td>\n",
       "      <td>5.586729</td>\n",
       "      <td>3.26</td>\n",
       "      <td>34310.242831</td>\n",
       "      <td>1.260617e+06</td>\n",
       "    </tr>\n",
       "    <tr>\n",
       "      <th>4</th>\n",
       "      <td>59982.197226</td>\n",
       "      <td>5.040555</td>\n",
       "      <td>7.839388</td>\n",
       "      <td>4.23</td>\n",
       "      <td>26354.109472</td>\n",
       "      <td>6.309435e+05</td>\n",
       "    </tr>\n",
       "  </tbody>\n",
       "</table>\n",
       "</div>"
      ],
      "text/plain": [
       "   Avg. Area Income  Avg. Area House Age  Avg. Area Number of Rooms  \\\n",
       "0      79545.458574             5.682861                   7.009188   \n",
       "1      79248.642455             6.002900                   6.730821   \n",
       "2      61287.067179             5.865890                   8.512727   \n",
       "3      63345.240046             7.188236                   5.586729   \n",
       "4      59982.197226             5.040555                   7.839388   \n",
       "\n",
       "   Avg. Area Number of Bedrooms  Area Population         Price  \n",
       "0                          4.09     23086.800503  1.059034e+06  \n",
       "1                          3.09     40173.072174  1.505891e+06  \n",
       "2                          5.13     36882.159400  1.058988e+06  \n",
       "3                          3.26     34310.242831  1.260617e+06  \n",
       "4                          4.23     26354.109472  6.309435e+05  "
      ]
     },
     "execution_count": 84,
     "metadata": {},
     "output_type": "execute_result"
    }
   ],
   "source": [
    "house.data.head(5)"
   ]
  },
  {
   "cell_type": "code",
   "execution_count": 85,
   "id": "b5551b86",
   "metadata": {},
   "outputs": [
    {
     "data": {
      "text/plain": [
       "array([[986210.35607807]])"
      ]
     },
     "execution_count": 85,
     "metadata": {},
     "output_type": "execute_result"
    }
   ],
   "source": [
    "# Hacer una predicción de una nueva entrada\n",
    "X_new = np.array([[64856.2, 7, 5, 3, 30000.5]]) #Datos de entrada sin estandarizar\n",
    "X_new_std = std.transform(X_new)\n",
    "\n",
    "y_pred_new = reg_model_house.predict(X_new_std)\n",
    "y_pred_new"
   ]
  },
  {
   "cell_type": "code",
   "execution_count": 86,
   "id": "d677a82e",
   "metadata": {},
   "outputs": [
    {
     "data": {
      "text/plain": [
       "array([[986210.35607807],\n",
       "       [473697.67791218]])"
      ]
     },
     "execution_count": 86,
     "metadata": {},
     "output_type": "execute_result"
    }
   ],
   "source": [
    "# Hacer una predicción de una nueva entrada\n",
    "X_new = np.array([[64856.2, 7, 5, 3, 30000.5],\n",
    "                  [74856.2, 4, 3, 3.9, 30500]]) #Datos de entrada sin estandarizar\n",
    "X_new_std = std.transform(X_new)\n",
    "\n",
    "y_pred_new = reg_model_house.predict(X_new_std)\n",
    "y_pred_new"
   ]
  },
  {
   "cell_type": "code",
   "execution_count": 88,
   "id": "8cb01e3e",
   "metadata": {},
   "outputs": [],
   "source": [
    "#Regresion Lineal utilizando la libreria de Sklearn\n",
    "from sklearn.linear_model import LinearRegression\n",
    "reg_model = LinearRegression(fit_intercept=True)\n",
    "model = reg_model.fit(X_std,y)\n",
    "y_pred_precio = model.predict(X_std)"
   ]
  },
  {
   "cell_type": "code",
   "execution_count": 89,
   "id": "776f991c",
   "metadata": {},
   "outputs": [
    {
     "data": {
      "text/plain": [
       "array([[1223847.04275354],\n",
       "       [1494937.69161729],\n",
       "       [1253016.7460815 ],\n",
       "       ...,\n",
       "       [1020482.52609272],\n",
       "       [1263982.82457363],\n",
       "       [1301976.34571982]])"
      ]
     },
     "execution_count": 89,
     "metadata": {},
     "output_type": "execute_result"
    }
   ],
   "source": [
    "y_pred_precio"
   ]
  },
  {
   "cell_type": "code",
   "execution_count": 90,
   "id": "fa0c2cd2",
   "metadata": {},
   "outputs": [
    {
     "data": {
      "text/plain": [
       "array([[985913.5252176 ],\n",
       "       [472541.83798443]])"
      ]
     },
     "execution_count": 90,
     "metadata": {},
     "output_type": "execute_result"
    }
   ],
   "source": [
    "model.predict(X_new_std)"
   ]
  },
  {
   "cell_type": "code",
   "execution_count": 91,
   "id": "4454f58f",
   "metadata": {},
   "outputs": [
    {
     "data": {
      "text/plain": [
       "array([[6.48562e+04, 7.00000e+00, 5.00000e+00, 3.00000e+00, 3.00005e+04],\n",
       "       [7.48562e+04, 4.00000e+00, 3.00000e+00, 3.90000e+00, 3.05000e+04]])"
      ]
     },
     "execution_count": 91,
     "metadata": {},
     "output_type": "execute_result"
    }
   ],
   "source": [
    "X_new"
   ]
  },
  {
   "cell_type": "markdown",
   "id": "889cd8a0",
   "metadata": {},
   "source": [
    "## Actividad:\n",
    "\n"
   ]
  },
  {
   "cell_type": "markdown",
   "id": "d11598df",
   "metadata": {},
   "source": [
    "Considere el dataset \"real_state.csv\" que se encuentra en la carpeta de Data, realice un Análisis Exploratorio de Datos. En base a lo obtenido seleccione una variable a predecir ($y$) y un conjunto de variables para entrenar ($X$) un modelo de regresión lineal. Utilice la librería de la clase, después compare sus resultados con un modelo de regresion lineal creado mediante la librería sklearn.\n",
    "\n",
    "> Programe la métrica r2_score y mse en su librería, estas métricas sirven para medir el rendimiento de los modelos de regresión.\n",
    "\n",
    "> Utilice las métricas mean_squared_error y r2_score para evaluar el modelo\n",
    "\n"
   ]
  },
  {
   "cell_type": "code",
   "execution_count": 92,
   "id": "632214cb",
   "metadata": {},
   "outputs": [],
   "source": [
    "from sklearn.metrics import r2_score, mean_squared_error"
   ]
  },
  {
   "cell_type": "code",
   "execution_count": null,
   "id": "06971c9e",
   "metadata": {},
   "outputs": [],
   "source": []
  }
 ],
 "metadata": {
  "kernelspec": {
   "display_name": "Python 3 (ipykernel)",
   "language": "python",
   "name": "python3"
  },
  "language_info": {
   "codemirror_mode": {
    "name": "ipython",
    "version": 3
   },
   "file_extension": ".py",
   "mimetype": "text/x-python",
   "name": "python",
   "nbconvert_exporter": "python",
   "pygments_lexer": "ipython3",
   "version": "3.8.8"
  }
 },
 "nbformat": 4,
 "nbformat_minor": 5
}
